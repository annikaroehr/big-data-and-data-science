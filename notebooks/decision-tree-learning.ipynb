{
 "cells": [
  {
   "cell_type": "code",
   "execution_count": 1,
   "metadata": {},
   "outputs": [],
   "source": [
    "# Magic Commands\n",
    "%matplotlib inline\n",
    "\n",
    "# Python Packages\n",
    "from time import time\n",
    "\n",
    "# Third-Party Packages\n",
    "import matplotlib as mpl\n",
    "import matplotlib.pyplot as plt\n",
    "import numpy as np\n",
    "import pandas as pd\n",
    "from scipy.stats import randint\n",
    "from sklearn.compose import ColumnTransformer\n",
    "from sklearn.ensemble import RandomForestClassifier\n",
    "from sklearn.pipeline import Pipeline\n",
    "from sklearn.preprocessing import LabelEncoder, OneHotEncoder\n",
    "from sklearn.metrics import f1_score, make_scorer\n",
    "from sklearn.model_selection import cross_validate, GridSearchCV, RandomizedSearchCV\n",
    "from sklearn import tree\n",
    "from sklearn.tree import DecisionTreeClassifier\n",
    "\n",
    "# Local Packages\n",
    "from utils import decision_areas, ID3, plot_areas, plot_tree"
   ]
  },
  {
   "cell_type": "code",
   "execution_count": 2,
   "metadata": {},
   "outputs": [],
   "source": [
    "# Matplotlib Default Configuration\n",
    "mpl.rc('axes', titlesize=8)\n",
    "mpl.rc('grid', linestyle=':')"
   ]
  },
  {
   "cell_type": "code",
   "execution_count": 3,
   "metadata": {},
   "outputs": [],
   "source": [
    "# Constants\n",
    "FIG_WIDTH, FIG_HEIGHT = 11, 4"
   ]
  },
  {
   "cell_type": "markdown",
   "metadata": {},
   "source": [
    "# Decision Tree Learning"
   ]
  },
  {
   "cell_type": "markdown",
   "metadata": {},
   "source": [
    "## Non-Linear Relationships"
   ]
  },
  {
   "cell_type": "code",
   "execution_count": 4,
   "metadata": {},
   "outputs": [],
   "source": [
    "np.random.seed(1909)\n",
    "samples = 30\n",
    "\n",
    "x1, x2 = list(np.random.uniform(2.5, 7.5, samples + 50)), list(np.random.uniform(2.5, 7.5, samples + 50))\n",
    "x11 = list(np.random.uniform(0, 2, samples)) + list(np.random.uniform(8, 10, samples)) + list(np.random.uniform(2, 8, samples)) + list(np.random.uniform(2, 8, samples))\n",
    "x22 = list(np.random.uniform(0, 10, samples)) + list(np.random.uniform(0, 10, samples)) + list(np.random.uniform(0, 2, samples)) + list(np.random.uniform(8, 10, samples))\n",
    "\n",
    "nle = pd.DataFrame({'X1': x1 + x11, 'X2': x2 + x22})\n",
    "nle['Y'] = np.where(((nle['X1'] >= 2.5) & (nle['X1'] <= 7.5)) & ((nle['X2'] >= 2.5) & (nle['X2'] <= 7.5)), 1, 0)\n",
    "\n",
    "X, y = nle[['X1', 'X2']].values, nle['Y'].values"
   ]
  },
  {
   "cell_type": "code",
   "execution_count": 5,
   "metadata": {},
   "outputs": [
    {
     "data": {
      "image/png": "[encoded data removed]",
      "text/plain": [
       "<Figure size 288x288 with 1 Axes>"
      ]
     },
     "metadata": {},
     "output_type": "display_data"
    }
   ],
   "source": [
    "fig, ax = plt.subplots(figsize=(FIG_HEIGHT, FIG_HEIGHT))\n",
    "\n",
    "ax.scatter(X[np.where(y == 0), 0], X[np.where(y == 0), 1])\n",
    "ax.scatter(X[np.where(y == 1), 0], X[np.where(y == 1), 1])\n",
    "\n",
    "ax.set_yticks([])\n",
    "ax.set_xticks([])\n",
    "\n",
    "plt.savefig('../slides/figures/non-linear-relationships.pdf', transparent=True, bbox_inches='tight', pad_inches=0)"
   ]
  },
  {
   "cell_type": "code",
   "execution_count": 6,
   "metadata": {},
   "outputs": [
    {
     "name": "stdout",
     "output_type": "stream",
     "text": [
      "-1.0 11.0 0.0 -8.409871816635132\n",
      "-1.0 2.2559601068496704 3.590128183364868 5.255132794380188\n",
      "2.2559601068496704 7.82994270324707 0.33416807651519775 -0.3188498020172119\n",
      "7.82994270324707 11.0 -5.239814519882202 -3.4889070987701416\n",
      "-1.0 11.0 8.511092901229858 0.0\n"
     ]
    },
    {
     "data": {
      "image/png": "[encoded data removed]",
      "text/plain": [
       "<Figure size 288x288 with 1 Axes>"
      ]
     },
     "metadata": {},
     "output_type": "display_data"
    }
   ],
   "source": [
    "fig, ax = plt.subplots(figsize=(FIG_HEIGHT, FIG_HEIGHT))\n",
    "\n",
    "clf = DecisionTreeClassifier().fit(X, y)\n",
    "x_min, x_max = X[:, 0].min() - 1, X[:, 0].max() + 1\n",
    "y_min, y_max = X[:, 1].min() - 1, X[:, 1].max() + 1\n",
    "xx, yy = np.meshgrid(np.arange(x_min, x_max, 0.01), np.arange(y_min, y_max, 0.01))\n",
    "zz = clf.predict(np.c_[xx.ravel(), yy.ravel()]).reshape(xx.shape)\n",
    "\n",
    "ax.scatter(X[np.where(y == 0), 0], X[np.where(y == 0), 1])\n",
    "ax.scatter(X[np.where(y == 1), 0], X[np.where(y == 1), 1])\n",
    "rectangles = decision_areas(clf, [-1, 11, -1, 11])\n",
    "plot_areas(rectangles)\n",
    "\n",
    "ax.set_xlim(-1, 11)\n",
    "ax.set_ylim(-1, 11)\n",
    "ax.set_yticks([])\n",
    "ax.set_xticks([])\n",
    "\n",
    "plt.savefig('../slides/figures/bisections.pdf', transparent=True, bbox_inches='tight', pad_inches=0)"
   ]
  },
  {
   "cell_type": "markdown",
   "metadata": {},
   "source": [
    "## Introductory Example"
   ]
  },
  {
   "cell_type": "code",
   "execution_count": 7,
   "metadata": {},
   "outputs": [],
   "source": [
    "data = pd.read_csv('../datasets/demos/outages.csv')"
   ]
  },
  {
   "cell_type": "code",
   "execution_count": 8,
   "metadata": {},
   "outputs": [],
   "source": [
    "table = data.copy()\n",
    "table = pd.concat([table.iloc[:3], pd.DataFrame([['...'] * len(table.columns)], columns=table.columns, index=[3]), table.iloc[-1:]]).reset_index(drop=True)\n",
    "table.columns = ['Vibration Intensity', 'Error Indicator', 'Temperature', 'Outage Indicator']\n",
    "table.insert(0, 'i', [*range(1, 4), '...', len(data)])\n",
    "table.to_latex('../slides/tables/outage-dataset.tex', column_format='crrrr', index=False, escape=False)"
   ]
  },
  {
   "cell_type": "code",
   "execution_count": 9,
   "metadata": {},
   "outputs": [],
   "source": [
    "table = data.copy()\n",
    "table = pd.concat([table.iloc[:3], pd.DataFrame([['...'] * len(table.columns)], columns=table.columns, index=[3]), table.iloc[-1:]]).reset_index(drop=True)\n",
    "table.insert(0, 'i', [*range(1, 4), '...', len(data)])\n",
    "table.to_latex('../slides/tables/outage-dataset-alt.tex', column_format='crrrr', index=False, escape=False)"
   ]
  },
  {
   "cell_type": "markdown",
   "metadata": {},
   "source": [
    "## Categorial Encoding"
   ]
  },
  {
   "cell_type": "markdown",
   "metadata": {},
   "source": [
    "#### Label Encoding"
   ]
  },
  {
   "cell_type": "code",
   "execution_count": 10,
   "metadata": {},
   "outputs": [],
   "source": [
    "data_le = data.copy()\n",
    "data_le.loc[:, ['vibration', 'error', 'temperature']] = data_le.loc[:, ['vibration', 'error', 'temperature']].apply(LabelEncoder().fit_transform)"
   ]
  },
  {
   "cell_type": "code",
   "execution_count": 11,
   "metadata": {},
   "outputs": [],
   "source": [
    "table = data_le.copy()\n",
    "table = pd.concat([table.iloc[:3], pd.DataFrame([['...'] * len(table.columns)], columns=table.columns, index=[3]), table.iloc[-1:]]).reset_index(drop=True)\n",
    "table.insert(0, 'i', [*range(1, 4), '...', len(data)])\n",
    "table.to_latex('../slides/tables/outage-dataset-le.tex', column_format='crrrr', index=False, escape=False)"
   ]
  },
  {
   "cell_type": "markdown",
   "metadata": {},
   "source": [
    "#### One-Hot Encoding"
   ]
  },
  {
   "cell_type": "code",
   "execution_count": 12,
   "metadata": {},
   "outputs": [],
   "source": [
    "ohe = OneHotEncoder(drop='first', sparse=False)\n",
    "ohe_transformations = ohe.fit_transform(data.loc[:, ['vibration', 'error', 'temperature']])\n",
    "ohe_columns = ohe.get_feature_names(data.loc[:, ['vibration', 'error', 'temperature']].columns)\n",
    "data_ohe = pd.DataFrame(ohe_transformations, columns=ohe_columns).applymap(lambda x: int(x))\n",
    "data_ohe['outage'] = data['outage']"
   ]
  },
  {
   "cell_type": "code",
   "execution_count": 13,
   "metadata": {},
   "outputs": [],
   "source": [
    "table = data_ohe.copy()\n",
    "table = pd.concat([table.iloc[:3], pd.DataFrame([['...'] * len(table.columns)], columns=table.columns, index=[3]), table.iloc[-1:]]).reset_index(drop=True)\n",
    "table = pd.concat([table.iloc[:,:2], table.iloc[:,2:3], table.iloc[:,-1]], axis=1)\n",
    "table.insert(0, 'i', [*range(1, 4), '...', len(data)])\n",
    "table.insert(4, '...', pd.DataFrame(['...'] * len(table)))\n",
    "table.to_latex('../slides/tables/outage-dataset-ohe.tex', column_format='crrrrrrrr', index=False, escape=True)"
   ]
  },
  {
   "cell_type": "markdown",
   "metadata": {},
   "source": [
    "#### Python Implementation"
   ]
  },
  {
   "cell_type": "code",
   "execution_count": 14,
   "metadata": {},
   "outputs": [
    {
     "name": "stdout",
     "output_type": "stream",
     "text": [
      "Overwriting ../slides/snippets/categorical-encoding.py\n"
     ]
    }
   ],
   "source": [
    "%%writefile ../slides/snippets/categorical-encoding.py\n",
    "# Additional Import Definitions\n",
    "from sklearn.preprocessing import LabelEncoder, OneHotEncoder\n",
    "\n",
    "# Label Encoder Pipeline Initialization\n",
    "categorical_transformer = Pipeline([\n",
    "    ('onehotencoder', LabelEncoder()), #or\n",
    "    ('labelencoder', OneHotEncoder(drop='first')),\n",
    "])"
   ]
  },
  {
   "cell_type": "markdown",
   "metadata": {
    "toc-hr-collapsed": false
   },
   "source": [
    "## Iterative Dichotomiser 3"
   ]
  },
  {
   "cell_type": "markdown",
   "metadata": {
    "toc-hr-collapsed": false
   },
   "source": [
    "### Manual Implementation"
   ]
  },
  {
   "cell_type": "code",
   "execution_count": 15,
   "metadata": {},
   "outputs": [],
   "source": [
    "model = ID3(target_variable='outage')\n",
    "model.fit(data) "
   ]
  },
  {
   "cell_type": "code",
   "execution_count": 16,
   "metadata": {},
   "outputs": [
    {
     "data": {
      "image/svg+xml": [
       "<?xml version=\"1.0\" encoding=\"UTF-8\" standalone=\"no\"?>\n",
       "<!DOCTYPE svg PUBLIC \"-//W3C//DTD SVG 1.1//EN\"\n",
       " \"http://www.w3.org/Graphics/SVG/1.1/DTD/svg11.dtd\">\n",
       "<!-- Generated by graphviz version 2.40.1 (20161225.0304)\n",
       " -->\n",
       "<!-- Pages: 1 -->\n",
       "<svg width=\"150pt\" height=\"152pt\"\n",
       " viewBox=\"0.00 0.00 150.26 152.00\" xmlns=\"http://www.w3.org/2000/svg\" xmlns:xlink=\"http://www.w3.org/1999/xlink\">\n",
       "<g id=\"graph0\" class=\"graph\" transform=\"scale(1 1) rotate(0) translate(4 148)\">\n",
       "<polygon fill=\"#ffffff\" stroke=\"transparent\" points=\"-4,4 -4,-148 146.2627,-148 146.2627,4 -4,4\"/>\n",
       "<!-- VIBRATION1 -->\n",
       "<g id=\"node1\" class=\"node\">\n",
       "<title>VIBRATION1</title>\n",
       "<polygon fill=\"#ffffff\" stroke=\"#000000\" points=\"70.3945,-90 -.1318,-90 -.1318,-54 70.3945,-54 70.3945,-90\"/>\n",
       "<text text-anchor=\"start\" x=\"8\" y=\"-69\" font-family=\"Helvetica,sans-Serif\" font-weight=\"bold\" font-size=\"10.00\" fill=\"#000000\">VIBRATION</text>\n",
       "</g>\n",
       "<!-- LOW1 -->\n",
       "<g id=\"node2\" class=\"node\">\n",
       "<title>LOW1</title>\n",
       "<polygon fill=\"#525252\" stroke=\"#000000\" points=\"142.2627,-144 106.2627,-144 106.2627,-108 142.2627,-108 142.2627,-144\"/>\n",
       "<text text-anchor=\"start\" x=\"116.0989\" y=\"-123.9\" font-family=\"Helvetica,sans-Serif\" font-weight=\"bold\" font-size=\"7.00\" fill=\"#ffffff\">LOW</text>\n",
       "</g>\n",
       "<!-- VIBRATION1&#45;&gt;LOW1 -->\n",
       "<g id=\"edge1\" class=\"edge\">\n",
       "<title>VIBRATION1&#45;&gt;LOW1</title>\n",
       "<path fill=\"none\" stroke=\"#000000\" d=\"M65.3072,-90.2819C75.6698,-96.5601 87.1953,-103.5428 97.2872,-109.657\"/>\n",
       "<polygon fill=\"#000000\" stroke=\"#000000\" points=\"95.7115,-112.7945 106.0779,-114.9828 99.3387,-106.8076 95.7115,-112.7945\"/>\n",
       "</g>\n",
       "<!-- MEDIUM1 -->\n",
       "<g id=\"node3\" class=\"node\">\n",
       "<title>MEDIUM1</title>\n",
       "<polygon fill=\"#525252\" stroke=\"#000000\" points=\"142.2627,-90 106.2627,-90 106.2627,-54 142.2627,-54 142.2627,-90\"/>\n",
       "<text text-anchor=\"start\" x=\"110.0696\" y=\"-69.9\" font-family=\"Helvetica,sans-Serif\" font-weight=\"bold\" font-size=\"7.00\" fill=\"#ffffff\">MEDIUM</text>\n",
       "</g>\n",
       "<!-- VIBRATION1&#45;&gt;MEDIUM1 -->\n",
       "<g id=\"edge2\" class=\"edge\">\n",
       "<title>VIBRATION1&#45;&gt;MEDIUM1</title>\n",
       "<path fill=\"none\" stroke=\"#000000\" d=\"M70.3584,-72C78.8845,-72 87.888,-72 96.0437,-72\"/>\n",
       "<polygon fill=\"#000000\" stroke=\"#000000\" points=\"96.1653,-75.5001 106.1652,-72 96.1652,-68.5001 96.1653,-75.5001\"/>\n",
       "</g>\n",
       "<!-- HIGH1 -->\n",
       "<g id=\"node4\" class=\"node\">\n",
       "<title>HIGH1</title>\n",
       "<polygon fill=\"#525252\" stroke=\"#000000\" points=\"142.2627,-36 106.2627,-36 106.2627,0 142.2627,0 142.2627,-36\"/>\n",
       "<text text-anchor=\"start\" x=\"115.5127\" y=\"-15.9\" font-family=\"Helvetica,sans-Serif\" font-weight=\"bold\" font-size=\"7.00\" fill=\"#ffffff\">HIGH</text>\n",
       "</g>\n",
       "<!-- VIBRATION1&#45;&gt;HIGH1 -->\n",
       "<g id=\"edge3\" class=\"edge\">\n",
       "<title>VIBRATION1&#45;&gt;HIGH1</title>\n",
       "<path fill=\"none\" stroke=\"#000000\" d=\"M65.3072,-53.7181C75.6698,-47.4399 87.1953,-40.4572 97.2872,-34.343\"/>\n",
       "<polygon fill=\"#000000\" stroke=\"#000000\" points=\"99.3387,-37.1924 106.0779,-29.0172 95.7115,-31.2055 99.3387,-37.1924\"/>\n",
       "</g>\n",
       "</g>\n",
       "</svg>\n"
      ],
      "text/plain": [
       "<graphviz.files.Source at 0x1249ccb38>"
      ]
     },
     "execution_count": 16,
     "metadata": {},
     "output_type": "execute_result"
    }
   ],
   "source": [
    "nodes = ['VIBRATION', 'LOW', 'MEDIUM', 'HIGH']\n",
    "nodes_idx = ['VIBRATION1', 'LOW1', 'MEDIUM1', 'HIGH1']\n",
    "edges = [('VIBRATION1', 'LOW1'), ('VIBRATION1', 'MEDIUM1'), ('VIBRATION1', 'HIGH1')]\n",
    "\n",
    "plot_tree(nodes, nodes_idx, edges, [0], [], filename='../slides/figures/outages-idthree-man-1.pdf')"
   ]
  },
  {
   "cell_type": "code",
   "execution_count": 17,
   "metadata": {},
   "outputs": [
    {
     "data": {
      "image/svg+xml": [
       "<?xml version=\"1.0\" encoding=\"UTF-8\" standalone=\"no\"?>\n",
       "<!DOCTYPE svg PUBLIC \"-//W3C//DTD SVG 1.1//EN\"\n",
       " \"http://www.w3.org/Graphics/SVG/1.1/DTD/svg11.dtd\">\n",
       "<!-- Generated by graphviz version 2.40.1 (20161225.0304)\n",
       " -->\n",
       "<!-- Pages: 1 -->\n",
       "<svg width=\"382pt\" height=\"179pt\"\n",
       " viewBox=\"0.00 0.00 382.38 179.00\" xmlns=\"http://www.w3.org/2000/svg\" xmlns:xlink=\"http://www.w3.org/1999/xlink\">\n",
       "<g id=\"graph0\" class=\"graph\" transform=\"scale(1 1) rotate(0) translate(4 175)\">\n",
       "<polygon fill=\"#ffffff\" stroke=\"transparent\" points=\"-4,4 -4,-175 378.376,-175 378.376,4 -4,4\"/>\n",
       "<!-- VIBRATION1 -->\n",
       "<g id=\"node1\" class=\"node\">\n",
       "<title>VIBRATION1</title>\n",
       "<polygon fill=\"#ffffff\" stroke=\"#000000\" points=\"70.3945,-90 -.1318,-90 -.1318,-54 70.3945,-54 70.3945,-90\"/>\n",
       "<text text-anchor=\"start\" x=\"8\" y=\"-69\" font-family=\"Helvetica,sans-Serif\" font-weight=\"bold\" font-size=\"10.00\" fill=\"#000000\">VIBRATION</text>\n",
       "</g>\n",
       "<!-- LOW1 -->\n",
       "<g id=\"node2\" class=\"node\">\n",
       "<title>LOW1</title>\n",
       "<polygon fill=\"#525252\" stroke=\"#000000\" points=\"142.2627,-144 106.2627,-144 106.2627,-108 142.2627,-108 142.2627,-144\"/>\n",
       "<text text-anchor=\"start\" x=\"116.0989\" y=\"-123.9\" font-family=\"Helvetica,sans-Serif\" font-weight=\"bold\" font-size=\"7.00\" fill=\"#ffffff\">LOW</text>\n",
       "</g>\n",
       "<!-- VIBRATION1&#45;&gt;LOW1 -->\n",
       "<g id=\"edge1\" class=\"edge\">\n",
       "<title>VIBRATION1&#45;&gt;LOW1</title>\n",
       "<path fill=\"none\" stroke=\"#000000\" d=\"M65.3072,-90.2819C75.6698,-96.5601 87.1953,-103.5428 97.2872,-109.657\"/>\n",
       "<polygon fill=\"#000000\" stroke=\"#000000\" points=\"95.7115,-112.7945 106.0779,-114.9828 99.3387,-106.8076 95.7115,-112.7945\"/>\n",
       "</g>\n",
       "<!-- MEDIUM1 -->\n",
       "<g id=\"node3\" class=\"node\">\n",
       "<title>MEDIUM1</title>\n",
       "<polygon fill=\"#525252\" stroke=\"#000000\" points=\"142.2627,-90 106.2627,-90 106.2627,-54 142.2627,-54 142.2627,-90\"/>\n",
       "<text text-anchor=\"start\" x=\"110.0696\" y=\"-69.9\" font-family=\"Helvetica,sans-Serif\" font-weight=\"bold\" font-size=\"7.00\" fill=\"#ffffff\">MEDIUM</text>\n",
       "</g>\n",
       "<!-- VIBRATION1&#45;&gt;MEDIUM1 -->\n",
       "<g id=\"edge2\" class=\"edge\">\n",
       "<title>VIBRATION1&#45;&gt;MEDIUM1</title>\n",
       "<path fill=\"none\" stroke=\"#000000\" d=\"M70.3584,-72C78.8845,-72 87.888,-72 96.0437,-72\"/>\n",
       "<polygon fill=\"#000000\" stroke=\"#000000\" points=\"96.1653,-75.5001 106.1652,-72 96.1652,-68.5001 96.1653,-75.5001\"/>\n",
       "</g>\n",
       "<!-- HIGH1 -->\n",
       "<g id=\"node4\" class=\"node\">\n",
       "<title>HIGH1</title>\n",
       "<polygon fill=\"#525252\" stroke=\"#000000\" points=\"142.2627,-36 106.2627,-36 106.2627,0 142.2627,0 142.2627,-36\"/>\n",
       "<text text-anchor=\"start\" x=\"115.5127\" y=\"-15.9\" font-family=\"Helvetica,sans-Serif\" font-weight=\"bold\" font-size=\"7.00\" fill=\"#ffffff\">HIGH</text>\n",
       "</g>\n",
       "<!-- VIBRATION1&#45;&gt;HIGH1 -->\n",
       "<g id=\"edge3\" class=\"edge\">\n",
       "<title>VIBRATION1&#45;&gt;HIGH1</title>\n",
       "<path fill=\"none\" stroke=\"#000000\" d=\"M65.3072,-53.7181C75.6698,-47.4399 87.1953,-40.4572 97.2872,-34.343\"/>\n",
       "<polygon fill=\"#000000\" stroke=\"#000000\" points=\"99.3387,-37.1924 106.0779,-29.0172 95.7115,-31.2055 99.3387,-37.1924\"/>\n",
       "</g>\n",
       "<!-- ERROR1 -->\n",
       "<g id=\"node5\" class=\"node\">\n",
       "<title>ERROR1</title>\n",
       "<polygon fill=\"#ffffff\" stroke=\"#000000\" points=\"230.4327,-144 178.2059,-144 178.2059,-108 230.4327,-108 230.4327,-144\"/>\n",
       "<text text-anchor=\"start\" x=\"186.2627\" y=\"-123\" font-family=\"Helvetica,sans-Serif\" font-weight=\"bold\" font-size=\"10.00\" fill=\"#000000\">ERROR</text>\n",
       "</g>\n",
       "<!-- LOW1&#45;&gt;ERROR1 -->\n",
       "<g id=\"edge4\" class=\"edge\">\n",
       "<title>LOW1&#45;&gt;ERROR1</title>\n",
       "<path fill=\"none\" stroke=\"#000000\" d=\"M142.4288,-126C149.9888,-126 159.0497,-126 167.8762,-126\"/>\n",
       "<polygon fill=\"#000000\" stroke=\"#000000\" points=\"168.0261,-129.5001 178.0261,-126 168.0261,-122.5001 168.0261,-129.5001\"/>\n",
       "</g>\n",
       "<!-- NO1 -->\n",
       "<g id=\"node6\" class=\"node\">\n",
       "<title>NO1</title>\n",
       "<polygon fill=\"#525252\" stroke=\"#000000\" points=\"302.376,-171 266.376,-171 266.376,-135 302.376,-135 302.376,-171\"/>\n",
       "<text text-anchor=\"start\" x=\"279.126\" y=\"-150.9\" font-family=\"Helvetica,sans-Serif\" font-weight=\"bold\" font-size=\"7.00\" fill=\"#ffffff\">NO</text>\n",
       "</g>\n",
       "<!-- ERROR1&#45;&gt;NO1 -->\n",
       "<g id=\"edge5\" class=\"edge\">\n",
       "<title>ERROR1&#45;&gt;NO1</title>\n",
       "<path fill=\"none\" stroke=\"#000000\" d=\"M230.5329,-134.8408C238.9235,-137.6707 248.2373,-140.8118 256.7269,-143.6751\"/>\n",
       "<polygon fill=\"#000000\" stroke=\"#000000\" points=\"255.6157,-146.9939 266.2099,-146.8733 257.8528,-140.361 255.6157,-146.9939\"/>\n",
       "</g>\n",
       "<!-- YES1 -->\n",
       "<g id=\"node7\" class=\"node\">\n",
       "<title>YES1</title>\n",
       "<polygon fill=\"#525252\" stroke=\"#000000\" points=\"302.376,-117 266.376,-117 266.376,-81 302.376,-81 302.376,-117\"/>\n",
       "<text text-anchor=\"start\" x=\"277.3726\" y=\"-96.9\" font-family=\"Helvetica,sans-Serif\" font-weight=\"bold\" font-size=\"7.00\" fill=\"#ffffff\">YES</text>\n",
       "</g>\n",
       "<!-- ERROR1&#45;&gt;YES1 -->\n",
       "<g id=\"edge6\" class=\"edge\">\n",
       "<title>ERROR1&#45;&gt;YES1</title>\n",
       "<path fill=\"none\" stroke=\"#000000\" d=\"M230.5329,-117.1592C238.9235,-114.3293 248.2373,-111.1882 256.7269,-108.3249\"/>\n",
       "<polygon fill=\"#000000\" stroke=\"#000000\" points=\"257.8528,-111.639 266.2099,-105.1267 255.6157,-105.0061 257.8528,-111.639\"/>\n",
       "</g>\n",
       "<!-- NO2 -->\n",
       "<g id=\"node8\" class=\"node\">\n",
       "<title>NO2</title>\n",
       "<polygon fill=\"#cd3700\" stroke=\"#000000\" points=\"374.376,-171 338.376,-171 338.376,-135 374.376,-135 374.376,-171\"/>\n",
       "<text text-anchor=\"start\" x=\"351.126\" y=\"-150.9\" font-family=\"Helvetica,sans-Serif\" font-weight=\"bold\" font-size=\"7.00\" fill=\"#ffffff\">NO</text>\n",
       "</g>\n",
       "<!-- NO1&#45;&gt;NO2 -->\n",
       "<g id=\"edge7\" class=\"edge\">\n",
       "<title>NO1&#45;&gt;NO2</title>\n",
       "<path fill=\"none\" stroke=\"#000000\" d=\"M302.5446,-153C310.245,-153 319.4016,-153 327.9593,-153\"/>\n",
       "<polygon fill=\"#000000\" stroke=\"#000000\" points=\"327.9627,-156.5001 337.9627,-153 327.9627,-149.5001 327.9627,-156.5001\"/>\n",
       "</g>\n",
       "<!-- YES2 -->\n",
       "<g id=\"node9\" class=\"node\">\n",
       "<title>YES2</title>\n",
       "<polygon fill=\"#006400\" stroke=\"#000000\" points=\"374.376,-117 338.376,-117 338.376,-81 374.376,-81 374.376,-117\"/>\n",
       "<text text-anchor=\"start\" x=\"349.3726\" y=\"-96.9\" font-family=\"Helvetica,sans-Serif\" font-weight=\"bold\" font-size=\"7.00\" fill=\"#ffffff\">YES</text>\n",
       "</g>\n",
       "<!-- YES1&#45;&gt;YES2 -->\n",
       "<g id=\"edge8\" class=\"edge\">\n",
       "<title>YES1&#45;&gt;YES2</title>\n",
       "<path fill=\"none\" stroke=\"#000000\" d=\"M302.5446,-99C310.245,-99 319.4016,-99 327.9593,-99\"/>\n",
       "<polygon fill=\"#000000\" stroke=\"#000000\" points=\"327.9627,-102.5001 337.9627,-99 327.9627,-95.5001 327.9627,-102.5001\"/>\n",
       "</g>\n",
       "</g>\n",
       "</svg>\n"
      ],
      "text/plain": [
       "<graphviz.files.Source at 0x124a32ba8>"
      ]
     },
     "execution_count": 17,
     "metadata": {},
     "output_type": "execute_result"
    }
   ],
   "source": [
    "nodes = ['VIBRATION', 'LOW', 'MEDIUM', 'HIGH']\n",
    "nodes = nodes + ['ERROR', 'NO', 'NO', 'YES', 'YES']\n",
    "\n",
    "nodes_idx = ['VIBRATION1', 'LOW1', 'MEDIUM1', 'HIGH1']\n",
    "nodes_idx = nodes_idx + ['ERROR1', 'NO1', 'NO2', 'YES1', 'YES2']\n",
    "\n",
    "edges = [('VIBRATION1', 'LOW1'), ('VIBRATION1', 'MEDIUM1'), ('VIBRATION1', 'HIGH1')]\n",
    "edges = edges + [('LOW1', 'ERROR1'), ('ERROR1', 'NO1'), ('NO1', 'NO2'), ('ERROR1', 'YES1'), ('YES1', 'YES2')]\n",
    "\n",
    "plot_tree(nodes, nodes_idx, edges, [0, 4], [6, 8], filename='../slides/figures/outages-idthree-man-2.pdf')"
   ]
  },
  {
   "cell_type": "code",
   "execution_count": 18,
   "metadata": {},
   "outputs": [
    {
     "data": {
      "image/svg+xml": [
       "<?xml version=\"1.0\" encoding=\"UTF-8\" standalone=\"no\"?>\n",
       "<!DOCTYPE svg PUBLIC \"-//W3C//DTD SVG 1.1//EN\"\n",
       " \"http://www.w3.org/Graphics/SVG/1.1/DTD/svg11.dtd\">\n",
       "<!-- Generated by graphviz version 2.40.1 (20161225.0304)\n",
       " -->\n",
       "<!-- Pages: 1 -->\n",
       "<svg width=\"422pt\" height=\"206pt\"\n",
       " viewBox=\"0.00 0.00 421.64 206.00\" xmlns=\"http://www.w3.org/2000/svg\" xmlns:xlink=\"http://www.w3.org/1999/xlink\">\n",
       "<g id=\"graph0\" class=\"graph\" transform=\"scale(1 1) rotate(0) translate(4 202)\">\n",
       "<polygon fill=\"#ffffff\" stroke=\"transparent\" points=\"-4,4 -4,-202 417.6387,-202 417.6387,4 -4,4\"/>\n",
       "<!-- VIBRATION1 -->\n",
       "<g id=\"node1\" class=\"node\">\n",
       "<title>VIBRATION1</title>\n",
       "<polygon fill=\"#ffffff\" stroke=\"#000000\" points=\"70.3945,-90 -.1318,-90 -.1318,-54 70.3945,-54 70.3945,-90\"/>\n",
       "<text text-anchor=\"start\" x=\"8\" y=\"-69\" font-family=\"Helvetica,sans-Serif\" font-weight=\"bold\" font-size=\"10.00\" fill=\"#000000\">VIBRATION</text>\n",
       "</g>\n",
       "<!-- LOW1 -->\n",
       "<g id=\"node2\" class=\"node\">\n",
       "<title>LOW1</title>\n",
       "<polygon fill=\"#525252\" stroke=\"#000000\" points=\"142.2627,-144 106.2627,-144 106.2627,-108 142.2627,-108 142.2627,-144\"/>\n",
       "<text text-anchor=\"start\" x=\"116.0989\" y=\"-123.9\" font-family=\"Helvetica,sans-Serif\" font-weight=\"bold\" font-size=\"7.00\" fill=\"#ffffff\">LOW</text>\n",
       "</g>\n",
       "<!-- VIBRATION1&#45;&gt;LOW1 -->\n",
       "<g id=\"edge1\" class=\"edge\">\n",
       "<title>VIBRATION1&#45;&gt;LOW1</title>\n",
       "<path fill=\"none\" stroke=\"#000000\" d=\"M65.3072,-90.2819C75.6698,-96.5601 87.1953,-103.5428 97.2872,-109.657\"/>\n",
       "<polygon fill=\"#000000\" stroke=\"#000000\" points=\"95.7115,-112.7945 106.0779,-114.9828 99.3387,-106.8076 95.7115,-112.7945\"/>\n",
       "</g>\n",
       "<!-- MEDIUM1 -->\n",
       "<g id=\"node3\" class=\"node\">\n",
       "<title>MEDIUM1</title>\n",
       "<polygon fill=\"#525252\" stroke=\"#000000\" points=\"142.2627,-90 106.2627,-90 106.2627,-54 142.2627,-54 142.2627,-90\"/>\n",
       "<text text-anchor=\"start\" x=\"110.0696\" y=\"-69.9\" font-family=\"Helvetica,sans-Serif\" font-weight=\"bold\" font-size=\"7.00\" fill=\"#ffffff\">MEDIUM</text>\n",
       "</g>\n",
       "<!-- VIBRATION1&#45;&gt;MEDIUM1 -->\n",
       "<g id=\"edge2\" class=\"edge\">\n",
       "<title>VIBRATION1&#45;&gt;MEDIUM1</title>\n",
       "<path fill=\"none\" stroke=\"#000000\" d=\"M70.3584,-72C78.8845,-72 87.888,-72 96.0437,-72\"/>\n",
       "<polygon fill=\"#000000\" stroke=\"#000000\" points=\"96.1653,-75.5001 106.1652,-72 96.1652,-68.5001 96.1653,-75.5001\"/>\n",
       "</g>\n",
       "<!-- HIGH1 -->\n",
       "<g id=\"node4\" class=\"node\">\n",
       "<title>HIGH1</title>\n",
       "<polygon fill=\"#525252\" stroke=\"#000000\" points=\"142.2627,-36 106.2627,-36 106.2627,0 142.2627,0 142.2627,-36\"/>\n",
       "<text text-anchor=\"start\" x=\"115.5127\" y=\"-15.9\" font-family=\"Helvetica,sans-Serif\" font-weight=\"bold\" font-size=\"7.00\" fill=\"#ffffff\">HIGH</text>\n",
       "</g>\n",
       "<!-- VIBRATION1&#45;&gt;HIGH1 -->\n",
       "<g id=\"edge3\" class=\"edge\">\n",
       "<title>VIBRATION1&#45;&gt;HIGH1</title>\n",
       "<path fill=\"none\" stroke=\"#000000\" d=\"M65.3072,-53.7181C75.6698,-47.4399 87.1953,-40.4572 97.2872,-34.343\"/>\n",
       "<polygon fill=\"#000000\" stroke=\"#000000\" points=\"99.3387,-37.1924 106.0779,-29.0172 95.7115,-31.2055 99.3387,-37.1924\"/>\n",
       "</g>\n",
       "<!-- ERROR1 -->\n",
       "<g id=\"node5\" class=\"node\">\n",
       "<title>ERROR1</title>\n",
       "<polygon fill=\"#ffffff\" stroke=\"#000000\" points=\"250.0641,-144 197.8373,-144 197.8373,-108 250.0641,-108 250.0641,-144\"/>\n",
       "<text text-anchor=\"start\" x=\"205.894\" y=\"-123\" font-family=\"Helvetica,sans-Serif\" font-weight=\"bold\" font-size=\"10.00\" fill=\"#000000\">ERROR</text>\n",
       "</g>\n",
       "<!-- LOW1&#45;&gt;ERROR1 -->\n",
       "<g id=\"edge4\" class=\"edge\">\n",
       "<title>LOW1&#45;&gt;ERROR1</title>\n",
       "<path fill=\"none\" stroke=\"#000000\" d=\"M142.547,-126C155.0606,-126 172.0824,-126 187.3262,-126\"/>\n",
       "<polygon fill=\"#000000\" stroke=\"#000000\" points=\"187.5183,-129.5001 197.5183,-126 187.5182,-122.5001 187.5183,-129.5001\"/>\n",
       "</g>\n",
       "<!-- TEMPERATURE1 -->\n",
       "<g id=\"node6\" class=\"node\">\n",
       "<title>TEMPERATURE1</title>\n",
       "<polygon fill=\"#ffffff\" stroke=\"#000000\" points=\"269.8274,-90 178.0739,-90 178.0739,-54 269.8274,-54 269.8274,-90\"/>\n",
       "<text text-anchor=\"start\" x=\"186.2627\" y=\"-69\" font-family=\"Helvetica,sans-Serif\" font-weight=\"bold\" font-size=\"10.00\" fill=\"#000000\">TEMPERATURE</text>\n",
       "</g>\n",
       "<!-- MEDIUM1&#45;&gt;TEMPERATURE1 -->\n",
       "<g id=\"edge5\" class=\"edge\">\n",
       "<title>MEDIUM1&#45;&gt;TEMPERATURE1</title>\n",
       "<path fill=\"none\" stroke=\"#000000\" d=\"M142.547,-72C149.8946,-72 158.7965,-72 167.9801,-72\"/>\n",
       "<polygon fill=\"#000000\" stroke=\"#000000\" points=\"167.9957,-75.5001 177.9957,-72 167.9957,-68.5001 167.9957,-75.5001\"/>\n",
       "</g>\n",
       "<!-- NO1 -->\n",
       "<g id=\"node7\" class=\"node\">\n",
       "<title>NO1</title>\n",
       "<polygon fill=\"#525252\" stroke=\"#000000\" points=\"341.6387,-198 305.6387,-198 305.6387,-162 341.6387,-162 341.6387,-198\"/>\n",
       "<text text-anchor=\"start\" x=\"318.3887\" y=\"-177.9\" font-family=\"Helvetica,sans-Serif\" font-weight=\"bold\" font-size=\"7.00\" fill=\"#ffffff\">NO</text>\n",
       "</g>\n",
       "<!-- ERROR1&#45;&gt;NO1 -->\n",
       "<g id=\"edge6\" class=\"edge\">\n",
       "<title>ERROR1&#45;&gt;NO1</title>\n",
       "<path fill=\"none\" stroke=\"#000000\" d=\"M250.1425,-140.1879C264.4336,-147.9292 282.1017,-157.4999 296.5331,-165.3172\"/>\n",
       "<polygon fill=\"#000000\" stroke=\"#000000\" points=\"295.0212,-168.4787 305.4811,-170.1642 298.3553,-162.3237 295.0212,-168.4787\"/>\n",
       "</g>\n",
       "<!-- YES1 -->\n",
       "<g id=\"node8\" class=\"node\">\n",
       "<title>YES1</title>\n",
       "<polygon fill=\"#525252\" stroke=\"#000000\" points=\"341.6387,-144 305.6387,-144 305.6387,-108 341.6387,-108 341.6387,-144\"/>\n",
       "<text text-anchor=\"start\" x=\"316.6353\" y=\"-123.9\" font-family=\"Helvetica,sans-Serif\" font-weight=\"bold\" font-size=\"7.00\" fill=\"#ffffff\">YES</text>\n",
       "</g>\n",
       "<!-- ERROR1&#45;&gt;YES1 -->\n",
       "<g id=\"edge7\" class=\"edge\">\n",
       "<title>ERROR1&#45;&gt;YES1</title>\n",
       "<path fill=\"none\" stroke=\"#000000\" d=\"M250.1425,-126C264.0253,-126 281.0949,-126 295.2883,-126\"/>\n",
       "<polygon fill=\"#000000\" stroke=\"#000000\" points=\"295.4812,-129.5001 305.4811,-126 295.4811,-122.5001 295.4812,-129.5001\"/>\n",
       "</g>\n",
       "<!-- HIGH2 -->\n",
       "<g id=\"node9\" class=\"node\">\n",
       "<title>HIGH2</title>\n",
       "<polygon fill=\"#525252\" stroke=\"#000000\" points=\"341.6387,-90 305.6387,-90 305.6387,-54 341.6387,-54 341.6387,-90\"/>\n",
       "<text text-anchor=\"start\" x=\"314.8887\" y=\"-69.9\" font-family=\"Helvetica,sans-Serif\" font-weight=\"bold\" font-size=\"7.00\" fill=\"#ffffff\">HIGH</text>\n",
       "</g>\n",
       "<!-- TEMPERATURE1&#45;&gt;HIGH2 -->\n",
       "<g id=\"edge8\" class=\"edge\">\n",
       "<title>TEMPERATURE1&#45;&gt;HIGH2</title>\n",
       "<path fill=\"none\" stroke=\"#000000\" d=\"M269.71,-72C278.4369,-72 287.3319,-72 295.3153,-72\"/>\n",
       "<polygon fill=\"#000000\" stroke=\"#000000\" points=\"295.5354,-75.5001 305.5354,-72 295.5353,-68.5001 295.5354,-75.5001\"/>\n",
       "</g>\n",
       "<!-- LOW2 -->\n",
       "<g id=\"node10\" class=\"node\">\n",
       "<title>LOW2</title>\n",
       "<polygon fill=\"#525252\" stroke=\"#000000\" points=\"341.6387,-36 305.6387,-36 305.6387,0 341.6387,0 341.6387,-36\"/>\n",
       "<text text-anchor=\"start\" x=\"315.4749\" y=\"-15.9\" font-family=\"Helvetica,sans-Serif\" font-weight=\"bold\" font-size=\"7.00\" fill=\"#ffffff\">LOW</text>\n",
       "</g>\n",
       "<!-- TEMPERATURE1&#45;&gt;LOW2 -->\n",
       "<g id=\"edge9\" class=\"edge\">\n",
       "<title>TEMPERATURE1&#45;&gt;LOW2</title>\n",
       "<path fill=\"none\" stroke=\"#000000\" d=\"M257.4227,-53.8686C270.0981,-47.0024 284.3627,-39.2754 296.3971,-32.7565\"/>\n",
       "<polygon fill=\"#000000\" stroke=\"#000000\" points=\"298.3716,-35.6675 305.4974,-27.8269 295.0375,-29.5125 298.3716,-35.6675\"/>\n",
       "</g>\n",
       "<!-- NO2 -->\n",
       "<g id=\"node11\" class=\"node\">\n",
       "<title>NO2</title>\n",
       "<polygon fill=\"#cd3700\" stroke=\"#000000\" points=\"413.6387,-198 377.6387,-198 377.6387,-162 413.6387,-162 413.6387,-198\"/>\n",
       "<text text-anchor=\"start\" x=\"390.3887\" y=\"-177.9\" font-family=\"Helvetica,sans-Serif\" font-weight=\"bold\" font-size=\"7.00\" fill=\"#ffffff\">NO</text>\n",
       "</g>\n",
       "<!-- NO1&#45;&gt;NO2 -->\n",
       "<g id=\"edge10\" class=\"edge\">\n",
       "<title>NO1&#45;&gt;NO2</title>\n",
       "<path fill=\"none\" stroke=\"#000000\" d=\"M341.8073,-180C349.5077,-180 358.6643,-180 367.222,-180\"/>\n",
       "<polygon fill=\"#000000\" stroke=\"#000000\" points=\"367.2254,-183.5001 377.2254,-180 367.2254,-176.5001 367.2254,-183.5001\"/>\n",
       "</g>\n",
       "<!-- YES2 -->\n",
       "<g id=\"node12\" class=\"node\">\n",
       "<title>YES2</title>\n",
       "<polygon fill=\"#006400\" stroke=\"#000000\" points=\"413.6387,-144 377.6387,-144 377.6387,-108 413.6387,-108 413.6387,-144\"/>\n",
       "<text text-anchor=\"start\" x=\"388.6353\" y=\"-123.9\" font-family=\"Helvetica,sans-Serif\" font-weight=\"bold\" font-size=\"7.00\" fill=\"#ffffff\">YES</text>\n",
       "</g>\n",
       "<!-- YES1&#45;&gt;YES2 -->\n",
       "<g id=\"edge11\" class=\"edge\">\n",
       "<title>YES1&#45;&gt;YES2</title>\n",
       "<path fill=\"none\" stroke=\"#000000\" d=\"M341.8073,-126C349.5077,-126 358.6643,-126 367.222,-126\"/>\n",
       "<polygon fill=\"#000000\" stroke=\"#000000\" points=\"367.2254,-129.5001 377.2254,-126 367.2254,-122.5001 367.2254,-129.5001\"/>\n",
       "</g>\n",
       "<!-- YES3 -->\n",
       "<g id=\"node13\" class=\"node\">\n",
       "<title>YES3</title>\n",
       "<polygon fill=\"#006400\" stroke=\"#000000\" points=\"413.6387,-90 377.6387,-90 377.6387,-54 413.6387,-54 413.6387,-90\"/>\n",
       "<text text-anchor=\"start\" x=\"388.6353\" y=\"-69.9\" font-family=\"Helvetica,sans-Serif\" font-weight=\"bold\" font-size=\"7.00\" fill=\"#ffffff\">YES</text>\n",
       "</g>\n",
       "<!-- HIGH2&#45;&gt;YES3 -->\n",
       "<g id=\"edge12\" class=\"edge\">\n",
       "<title>HIGH2&#45;&gt;YES3</title>\n",
       "<path fill=\"none\" stroke=\"#000000\" d=\"M341.8073,-72C349.5077,-72 358.6643,-72 367.222,-72\"/>\n",
       "<polygon fill=\"#000000\" stroke=\"#000000\" points=\"367.2254,-75.5001 377.2254,-72 367.2254,-68.5001 367.2254,-75.5001\"/>\n",
       "</g>\n",
       "<!-- YES4 -->\n",
       "<g id=\"node14\" class=\"node\">\n",
       "<title>YES4</title>\n",
       "<polygon fill=\"#cd3700\" stroke=\"#000000\" points=\"413.6387,-36 377.6387,-36 377.6387,0 413.6387,0 413.6387,-36\"/>\n",
       "<text text-anchor=\"start\" x=\"390.3887\" y=\"-15.9\" font-family=\"Helvetica,sans-Serif\" font-weight=\"bold\" font-size=\"7.00\" fill=\"#ffffff\">NO</text>\n",
       "</g>\n",
       "<!-- LOW2&#45;&gt;YES4 -->\n",
       "<g id=\"edge13\" class=\"edge\">\n",
       "<title>LOW2&#45;&gt;YES4</title>\n",
       "<path fill=\"none\" stroke=\"#000000\" d=\"M341.8073,-18C349.5077,-18 358.6643,-18 367.222,-18\"/>\n",
       "<polygon fill=\"#000000\" stroke=\"#000000\" points=\"367.2254,-21.5001 377.2254,-18 367.2254,-14.5001 367.2254,-21.5001\"/>\n",
       "</g>\n",
       "</g>\n",
       "</svg>\n"
      ],
      "text/plain": [
       "<graphviz.files.Source at 0x124ad90b8>"
      ]
     },
     "execution_count": 18,
     "metadata": {},
     "output_type": "execute_result"
    }
   ],
   "source": [
    "nodes = ['VIBRATION', 'LOW', 'MEDIUM', 'HIGH']\n",
    "nodes = nodes + ['ERROR', 'NO', 'NO', 'YES', 'YES']\n",
    "nodes = nodes + ['TEMPERATURE', 'HIGH', 'YES', 'LOW', 'NO']\n",
    "\n",
    "nodes_idx = ['VIBRATION1', 'LOW1', 'MEDIUM1', 'HIGH1']\n",
    "nodes_idx = nodes_idx + ['ERROR1', 'NO1', 'NO2', 'YES1', 'YES2']\n",
    "nodes_idx = nodes_idx + ['TEMPERATURE1', 'HIGH2', 'YES3', 'LOW2', 'YES4']\n",
    "\n",
    "edges = [('VIBRATION1', 'LOW1'), ('VIBRATION1', 'MEDIUM1'), ('VIBRATION1', 'HIGH1')]\n",
    "edges = edges + [('LOW1', 'ERROR1'), ('ERROR1', 'NO1'), ('NO1', 'NO2'), ('ERROR1', 'YES1'), ('YES1', 'YES2')]\n",
    "edges = edges + [('MEDIUM1', 'TEMPERATURE1'), ('TEMPERATURE1', 'HIGH2'), ('HIGH2', 'YES3'), ('TEMPERATURE1', 'LOW2'), ('LOW2', 'YES4')]\n",
    "\n",
    "plot_tree(nodes, nodes_idx, edges, [0, 4, 9], [6, 8, 11, 13], filename='../slides/figures/outages-idthree-man-3.pdf')"
   ]
  },
  {
   "cell_type": "code",
   "execution_count": 19,
   "metadata": {},
   "outputs": [
    {
     "data": {
      "image/svg+xml": [
       "<?xml version=\"1.0\" encoding=\"UTF-8\" standalone=\"no\"?>\n",
       "<!DOCTYPE svg PUBLIC \"-//W3C//DTD SVG 1.1//EN\"\n",
       " \"http://www.w3.org/Graphics/SVG/1.1/DTD/svg11.dtd\">\n",
       "<!-- Generated by graphviz version 2.40.1 (20161225.0304)\n",
       " -->\n",
       "<!-- Pages: 1 -->\n",
       "<svg width=\"422pt\" height=\"206pt\"\n",
       " viewBox=\"0.00 0.00 421.64 206.00\" xmlns=\"http://www.w3.org/2000/svg\" xmlns:xlink=\"http://www.w3.org/1999/xlink\">\n",
       "<g id=\"graph0\" class=\"graph\" transform=\"scale(1 1) rotate(0) translate(4 202)\">\n",
       "<polygon fill=\"#ffffff\" stroke=\"transparent\" points=\"-4,4 -4,-202 417.6387,-202 417.6387,4 -4,4\"/>\n",
       "<!-- VIBRATION1 -->\n",
       "<g id=\"node1\" class=\"node\">\n",
       "<title>VIBRATION1</title>\n",
       "<polygon fill=\"#ffffff\" stroke=\"#000000\" points=\"70.3945,-90 -.1318,-90 -.1318,-54 70.3945,-54 70.3945,-90\"/>\n",
       "<text text-anchor=\"start\" x=\"8\" y=\"-69\" font-family=\"Helvetica,sans-Serif\" font-weight=\"bold\" font-size=\"10.00\" fill=\"#000000\">VIBRATION</text>\n",
       "</g>\n",
       "<!-- LOW1 -->\n",
       "<g id=\"node2\" class=\"node\">\n",
       "<title>LOW1</title>\n",
       "<polygon fill=\"#525252\" stroke=\"#000000\" points=\"142.2627,-144 106.2627,-144 106.2627,-108 142.2627,-108 142.2627,-144\"/>\n",
       "<text text-anchor=\"start\" x=\"116.0989\" y=\"-123.9\" font-family=\"Helvetica,sans-Serif\" font-weight=\"bold\" font-size=\"7.00\" fill=\"#ffffff\">LOW</text>\n",
       "</g>\n",
       "<!-- VIBRATION1&#45;&gt;LOW1 -->\n",
       "<g id=\"edge1\" class=\"edge\">\n",
       "<title>VIBRATION1&#45;&gt;LOW1</title>\n",
       "<path fill=\"none\" stroke=\"#000000\" d=\"M65.3072,-90.2819C75.6698,-96.5601 87.1953,-103.5428 97.2872,-109.657\"/>\n",
       "<polygon fill=\"#000000\" stroke=\"#000000\" points=\"95.7115,-112.7945 106.0779,-114.9828 99.3387,-106.8076 95.7115,-112.7945\"/>\n",
       "</g>\n",
       "<!-- MEDIUM1 -->\n",
       "<g id=\"node3\" class=\"node\">\n",
       "<title>MEDIUM1</title>\n",
       "<polygon fill=\"#525252\" stroke=\"#000000\" points=\"142.2627,-90 106.2627,-90 106.2627,-54 142.2627,-54 142.2627,-90\"/>\n",
       "<text text-anchor=\"start\" x=\"110.0696\" y=\"-69.9\" font-family=\"Helvetica,sans-Serif\" font-weight=\"bold\" font-size=\"7.00\" fill=\"#ffffff\">MEDIUM</text>\n",
       "</g>\n",
       "<!-- VIBRATION1&#45;&gt;MEDIUM1 -->\n",
       "<g id=\"edge2\" class=\"edge\">\n",
       "<title>VIBRATION1&#45;&gt;MEDIUM1</title>\n",
       "<path fill=\"none\" stroke=\"#000000\" d=\"M70.3584,-72C78.8845,-72 87.888,-72 96.0437,-72\"/>\n",
       "<polygon fill=\"#000000\" stroke=\"#000000\" points=\"96.1653,-75.5001 106.1652,-72 96.1652,-68.5001 96.1653,-75.5001\"/>\n",
       "</g>\n",
       "<!-- HIGH1 -->\n",
       "<g id=\"node4\" class=\"node\">\n",
       "<title>HIGH1</title>\n",
       "<polygon fill=\"#525252\" stroke=\"#000000\" points=\"142.2627,-36 106.2627,-36 106.2627,0 142.2627,0 142.2627,-36\"/>\n",
       "<text text-anchor=\"start\" x=\"115.5127\" y=\"-15.9\" font-family=\"Helvetica,sans-Serif\" font-weight=\"bold\" font-size=\"7.00\" fill=\"#ffffff\">HIGH</text>\n",
       "</g>\n",
       "<!-- VIBRATION1&#45;&gt;HIGH1 -->\n",
       "<g id=\"edge3\" class=\"edge\">\n",
       "<title>VIBRATION1&#45;&gt;HIGH1</title>\n",
       "<path fill=\"none\" stroke=\"#000000\" d=\"M65.3072,-53.7181C75.6698,-47.4399 87.1953,-40.4572 97.2872,-34.343\"/>\n",
       "<polygon fill=\"#000000\" stroke=\"#000000\" points=\"99.3387,-37.1924 106.0779,-29.0172 95.7115,-31.2055 99.3387,-37.1924\"/>\n",
       "</g>\n",
       "<!-- ERROR1 -->\n",
       "<g id=\"node5\" class=\"node\">\n",
       "<title>ERROR1</title>\n",
       "<polygon fill=\"#ffffff\" stroke=\"#000000\" points=\"250.0641,-144 197.8373,-144 197.8373,-108 250.0641,-108 250.0641,-144\"/>\n",
       "<text text-anchor=\"start\" x=\"205.894\" y=\"-123\" font-family=\"Helvetica,sans-Serif\" font-weight=\"bold\" font-size=\"10.00\" fill=\"#000000\">ERROR</text>\n",
       "</g>\n",
       "<!-- LOW1&#45;&gt;ERROR1 -->\n",
       "<g id=\"edge4\" class=\"edge\">\n",
       "<title>LOW1&#45;&gt;ERROR1</title>\n",
       "<path fill=\"none\" stroke=\"#000000\" d=\"M142.547,-126C155.0606,-126 172.0824,-126 187.3262,-126\"/>\n",
       "<polygon fill=\"#000000\" stroke=\"#000000\" points=\"187.5183,-129.5001 197.5183,-126 187.5182,-122.5001 187.5183,-129.5001\"/>\n",
       "</g>\n",
       "<!-- TEMPERATURE1 -->\n",
       "<g id=\"node6\" class=\"node\">\n",
       "<title>TEMPERATURE1</title>\n",
       "<polygon fill=\"#ffffff\" stroke=\"#000000\" points=\"269.8274,-90 178.0739,-90 178.0739,-54 269.8274,-54 269.8274,-90\"/>\n",
       "<text text-anchor=\"start\" x=\"186.2627\" y=\"-69\" font-family=\"Helvetica,sans-Serif\" font-weight=\"bold\" font-size=\"10.00\" fill=\"#000000\">TEMPERATURE</text>\n",
       "</g>\n",
       "<!-- MEDIUM1&#45;&gt;TEMPERATURE1 -->\n",
       "<g id=\"edge5\" class=\"edge\">\n",
       "<title>MEDIUM1&#45;&gt;TEMPERATURE1</title>\n",
       "<path fill=\"none\" stroke=\"#000000\" d=\"M142.547,-72C149.8946,-72 158.7965,-72 167.9801,-72\"/>\n",
       "<polygon fill=\"#000000\" stroke=\"#000000\" points=\"167.9957,-75.5001 177.9957,-72 167.9957,-68.5001 167.9957,-75.5001\"/>\n",
       "</g>\n",
       "<!-- YES5 -->\n",
       "<g id=\"node7\" class=\"node\">\n",
       "<title>YES5</title>\n",
       "<polygon fill=\"#006400\" stroke=\"#000000\" points=\"241.9507,-36 205.9507,-36 205.9507,0 241.9507,0 241.9507,-36\"/>\n",
       "<text text-anchor=\"start\" x=\"216.9473\" y=\"-15.9\" font-family=\"Helvetica,sans-Serif\" font-weight=\"bold\" font-size=\"7.00\" fill=\"#ffffff\">YES</text>\n",
       "</g>\n",
       "<!-- HIGH1&#45;&gt;YES5 -->\n",
       "<g id=\"edge6\" class=\"edge\">\n",
       "<title>HIGH1&#45;&gt;YES5</title>\n",
       "<path fill=\"none\" stroke=\"#000000\" d=\"M142.547,-18C157.3019,-18 178.3248,-18 195.31,-18\"/>\n",
       "<polygon fill=\"#000000\" stroke=\"#000000\" points=\"195.7823,-21.5001 205.7823,-18 195.7823,-14.5001 195.7823,-21.5001\"/>\n",
       "</g>\n",
       "<!-- NO1 -->\n",
       "<g id=\"node8\" class=\"node\">\n",
       "<title>NO1</title>\n",
       "<polygon fill=\"#525252\" stroke=\"#000000\" points=\"341.6387,-198 305.6387,-198 305.6387,-162 341.6387,-162 341.6387,-198\"/>\n",
       "<text text-anchor=\"start\" x=\"318.3887\" y=\"-177.9\" font-family=\"Helvetica,sans-Serif\" font-weight=\"bold\" font-size=\"7.00\" fill=\"#ffffff\">NO</text>\n",
       "</g>\n",
       "<!-- ERROR1&#45;&gt;NO1 -->\n",
       "<g id=\"edge7\" class=\"edge\">\n",
       "<title>ERROR1&#45;&gt;NO1</title>\n",
       "<path fill=\"none\" stroke=\"#000000\" d=\"M250.1425,-140.1879C264.4336,-147.9292 282.1017,-157.4999 296.5331,-165.3172\"/>\n",
       "<polygon fill=\"#000000\" stroke=\"#000000\" points=\"295.0212,-168.4787 305.4811,-170.1642 298.3553,-162.3237 295.0212,-168.4787\"/>\n",
       "</g>\n",
       "<!-- YES1 -->\n",
       "<g id=\"node9\" class=\"node\">\n",
       "<title>YES1</title>\n",
       "<polygon fill=\"#525252\" stroke=\"#000000\" points=\"341.6387,-144 305.6387,-144 305.6387,-108 341.6387,-108 341.6387,-144\"/>\n",
       "<text text-anchor=\"start\" x=\"316.6353\" y=\"-123.9\" font-family=\"Helvetica,sans-Serif\" font-weight=\"bold\" font-size=\"7.00\" fill=\"#ffffff\">YES</text>\n",
       "</g>\n",
       "<!-- ERROR1&#45;&gt;YES1 -->\n",
       "<g id=\"edge8\" class=\"edge\">\n",
       "<title>ERROR1&#45;&gt;YES1</title>\n",
       "<path fill=\"none\" stroke=\"#000000\" d=\"M250.1425,-126C264.0253,-126 281.0949,-126 295.2883,-126\"/>\n",
       "<polygon fill=\"#000000\" stroke=\"#000000\" points=\"295.4812,-129.5001 305.4811,-126 295.4811,-122.5001 295.4812,-129.5001\"/>\n",
       "</g>\n",
       "<!-- HIGH2 -->\n",
       "<g id=\"node10\" class=\"node\">\n",
       "<title>HIGH2</title>\n",
       "<polygon fill=\"#525252\" stroke=\"#000000\" points=\"341.6387,-90 305.6387,-90 305.6387,-54 341.6387,-54 341.6387,-90\"/>\n",
       "<text text-anchor=\"start\" x=\"314.8887\" y=\"-69.9\" font-family=\"Helvetica,sans-Serif\" font-weight=\"bold\" font-size=\"7.00\" fill=\"#ffffff\">HIGH</text>\n",
       "</g>\n",
       "<!-- TEMPERATURE1&#45;&gt;HIGH2 -->\n",
       "<g id=\"edge9\" class=\"edge\">\n",
       "<title>TEMPERATURE1&#45;&gt;HIGH2</title>\n",
       "<path fill=\"none\" stroke=\"#000000\" d=\"M269.71,-72C278.4369,-72 287.3319,-72 295.3153,-72\"/>\n",
       "<polygon fill=\"#000000\" stroke=\"#000000\" points=\"295.5354,-75.5001 305.5354,-72 295.5353,-68.5001 295.5354,-75.5001\"/>\n",
       "</g>\n",
       "<!-- LOW2 -->\n",
       "<g id=\"node11\" class=\"node\">\n",
       "<title>LOW2</title>\n",
       "<polygon fill=\"#525252\" stroke=\"#000000\" points=\"341.6387,-36 305.6387,-36 305.6387,0 341.6387,0 341.6387,-36\"/>\n",
       "<text text-anchor=\"start\" x=\"315.4749\" y=\"-15.9\" font-family=\"Helvetica,sans-Serif\" font-weight=\"bold\" font-size=\"7.00\" fill=\"#ffffff\">LOW</text>\n",
       "</g>\n",
       "<!-- TEMPERATURE1&#45;&gt;LOW2 -->\n",
       "<g id=\"edge10\" class=\"edge\">\n",
       "<title>TEMPERATURE1&#45;&gt;LOW2</title>\n",
       "<path fill=\"none\" stroke=\"#000000\" d=\"M257.4227,-53.8686C270.0981,-47.0024 284.3627,-39.2754 296.3971,-32.7565\"/>\n",
       "<polygon fill=\"#000000\" stroke=\"#000000\" points=\"298.3716,-35.6675 305.4974,-27.8269 295.0375,-29.5125 298.3716,-35.6675\"/>\n",
       "</g>\n",
       "<!-- NO2 -->\n",
       "<g id=\"node12\" class=\"node\">\n",
       "<title>NO2</title>\n",
       "<polygon fill=\"#cd3700\" stroke=\"#000000\" points=\"413.6387,-198 377.6387,-198 377.6387,-162 413.6387,-162 413.6387,-198\"/>\n",
       "<text text-anchor=\"start\" x=\"390.3887\" y=\"-177.9\" font-family=\"Helvetica,sans-Serif\" font-weight=\"bold\" font-size=\"7.00\" fill=\"#ffffff\">NO</text>\n",
       "</g>\n",
       "<!-- NO1&#45;&gt;NO2 -->\n",
       "<g id=\"edge11\" class=\"edge\">\n",
       "<title>NO1&#45;&gt;NO2</title>\n",
       "<path fill=\"none\" stroke=\"#000000\" d=\"M341.8073,-180C349.5077,-180 358.6643,-180 367.222,-180\"/>\n",
       "<polygon fill=\"#000000\" stroke=\"#000000\" points=\"367.2254,-183.5001 377.2254,-180 367.2254,-176.5001 367.2254,-183.5001\"/>\n",
       "</g>\n",
       "<!-- YES2 -->\n",
       "<g id=\"node13\" class=\"node\">\n",
       "<title>YES2</title>\n",
       "<polygon fill=\"#006400\" stroke=\"#000000\" points=\"413.6387,-144 377.6387,-144 377.6387,-108 413.6387,-108 413.6387,-144\"/>\n",
       "<text text-anchor=\"start\" x=\"388.6353\" y=\"-123.9\" font-family=\"Helvetica,sans-Serif\" font-weight=\"bold\" font-size=\"7.00\" fill=\"#ffffff\">YES</text>\n",
       "</g>\n",
       "<!-- YES1&#45;&gt;YES2 -->\n",
       "<g id=\"edge12\" class=\"edge\">\n",
       "<title>YES1&#45;&gt;YES2</title>\n",
       "<path fill=\"none\" stroke=\"#000000\" d=\"M341.8073,-126C349.5077,-126 358.6643,-126 367.222,-126\"/>\n",
       "<polygon fill=\"#000000\" stroke=\"#000000\" points=\"367.2254,-129.5001 377.2254,-126 367.2254,-122.5001 367.2254,-129.5001\"/>\n",
       "</g>\n",
       "<!-- YES3 -->\n",
       "<g id=\"node14\" class=\"node\">\n",
       "<title>YES3</title>\n",
       "<polygon fill=\"#006400\" stroke=\"#000000\" points=\"413.6387,-90 377.6387,-90 377.6387,-54 413.6387,-54 413.6387,-90\"/>\n",
       "<text text-anchor=\"start\" x=\"388.6353\" y=\"-69.9\" font-family=\"Helvetica,sans-Serif\" font-weight=\"bold\" font-size=\"7.00\" fill=\"#ffffff\">YES</text>\n",
       "</g>\n",
       "<!-- HIGH2&#45;&gt;YES3 -->\n",
       "<g id=\"edge13\" class=\"edge\">\n",
       "<title>HIGH2&#45;&gt;YES3</title>\n",
       "<path fill=\"none\" stroke=\"#000000\" d=\"M341.8073,-72C349.5077,-72 358.6643,-72 367.222,-72\"/>\n",
       "<polygon fill=\"#000000\" stroke=\"#000000\" points=\"367.2254,-75.5001 377.2254,-72 367.2254,-68.5001 367.2254,-75.5001\"/>\n",
       "</g>\n",
       "<!-- YES4 -->\n",
       "<g id=\"node15\" class=\"node\">\n",
       "<title>YES4</title>\n",
       "<polygon fill=\"#cd3700\" stroke=\"#000000\" points=\"413.6387,-36 377.6387,-36 377.6387,0 413.6387,0 413.6387,-36\"/>\n",
       "<text text-anchor=\"start\" x=\"390.3887\" y=\"-15.9\" font-family=\"Helvetica,sans-Serif\" font-weight=\"bold\" font-size=\"7.00\" fill=\"#ffffff\">NO</text>\n",
       "</g>\n",
       "<!-- LOW2&#45;&gt;YES4 -->\n",
       "<g id=\"edge14\" class=\"edge\">\n",
       "<title>LOW2&#45;&gt;YES4</title>\n",
       "<path fill=\"none\" stroke=\"#000000\" d=\"M341.8073,-18C349.5077,-18 358.6643,-18 367.222,-18\"/>\n",
       "<polygon fill=\"#000000\" stroke=\"#000000\" points=\"367.2254,-21.5001 377.2254,-18 367.2254,-14.5001 367.2254,-21.5001\"/>\n",
       "</g>\n",
       "</g>\n",
       "</svg>\n"
      ],
      "text/plain": [
       "<graphviz.files.Source at 0x126ba59b0>"
      ]
     },
     "execution_count": 19,
     "metadata": {},
     "output_type": "execute_result"
    }
   ],
   "source": [
    "nodes = ['VIBRATION', 'LOW', 'MEDIUM', 'HIGH']\n",
    "nodes = nodes + ['ERROR', 'NO', 'NO', 'YES', 'YES']\n",
    "nodes = nodes + ['TEMPERATURE', 'HIGH', 'YES', 'LOW', 'NO']\n",
    "nodes = nodes + ['YES']\n",
    "\n",
    "nodes_idx = ['VIBRATION1', 'LOW1', 'MEDIUM1', 'HIGH1']\n",
    "nodes_idx = nodes_idx + ['ERROR1', 'NO1', 'NO2', 'YES1', 'YES2']\n",
    "nodes_idx = nodes_idx + ['TEMPERATURE1', 'HIGH2', 'YES3', 'LOW2', 'YES4']\n",
    "nodes_idx = nodes_idx + ['YES5']\n",
    "\n",
    "edges = [('VIBRATION1', 'LOW1'), ('VIBRATION1', 'MEDIUM1'), ('VIBRATION1', 'HIGH1')]\n",
    "edges = edges + [('LOW1', 'ERROR1'), ('ERROR1', 'NO1'), ('NO1', 'NO2'), ('ERROR1', 'YES1'), ('YES1', 'YES2')]\n",
    "edges = edges + [('MEDIUM1', 'TEMPERATURE1'), ('TEMPERATURE1', 'HIGH2'), ('HIGH2', 'YES3'), ('TEMPERATURE1', 'LOW2'), ('LOW2', 'YES4')]\n",
    "edges = edges + [('HIGH1', 'YES5')]\n",
    "\n",
    "plot_tree(nodes, nodes_idx, edges, [0, 4, 9], [6, 8, 11, 13, 14], filename='../slides/figures/outages-idthree-man-4.pdf')"
   ]
  },
  {
   "cell_type": "markdown",
   "metadata": {},
   "source": [
    "### Python Implementation"
   ]
  },
  {
   "cell_type": "code",
   "execution_count": 20,
   "metadata": {},
   "outputs": [
    {
     "name": "stdout",
     "output_type": "stream",
     "text": [
      "Medium Vibration, Low Temperature, Negative Error Indicator: no (100.0%)\n"
     ]
    }
   ],
   "source": [
    "data = pd.read_csv('../datasets/demos/outages.csv')\n",
    "X, y = data.iloc[:, 0:3], data['outage']\n",
    "\n",
    "hyperparams = {'criterion': 'entropy', 'max_depth': None, 'min_samples_split': 2, \n",
    "               'min_samples_leaf': 1, 'min_weight_fraction_leaf': 0.0, 'max_features': None, \n",
    "               'random_state': 1909, 'max_leaf_nodes': None, 'min_impurity_decrease':0.0, \n",
    "               'min_impurity_split': None}\n",
    "\n",
    "model = DecisionTreeClassifier(**hyperparams)\n",
    "\n",
    "categorical_featues = ['vibration', 'error', 'temperature']\n",
    "\n",
    "categorical_transformer = Pipeline([\n",
    "    ('onehotencoder', OneHotEncoder(drop='first')),\n",
    "])\n",
    "\n",
    "preprocessor = ColumnTransformer([\n",
    "    ('categorical_transformer', categorical_transformer, categorical_featues),\n",
    "])\n",
    "\n",
    "pipeline = Pipeline([\n",
    "    ('preprocessor', preprocessor), \n",
    "    ('model', model),\n",
    "])\n",
    "\n",
    "pipeline.fit(X, y)\n",
    "\n",
    "instance = pd.DataFrame({'vibration': ['medium'], 'error': ['no'], 'temperature': ['low']})\n",
    "\n",
    "prediction = pipeline.predict(instance)[0]\n",
    "prediction_proba = pipeline.predict_proba(instance)[:,:1][0][0] * 100\n",
    "print(f'Medium Vibration, Low Temperature, Negative Error Indicator: {prediction} ({prediction_proba}%)')"
   ]
  },
  {
   "cell_type": "code",
   "execution_count": 21,
   "metadata": {},
   "outputs": [
    {
     "name": "stdout",
     "output_type": "stream",
     "text": [
      "Overwriting ../slides/snippets/outtage-iterative-dichotomiser-1.py\n"
     ]
    }
   ],
   "source": [
    "%%writefile ../slides/snippets/outtage-iterative-dichotomiser-1.py\n",
    "# Additional Python Packages\n",
    "from sklearn.tree import DecisionTreeClassifier\n",
    "\n",
    "# Dataset Import\n",
    "data = pd.read_csv('../datasets/demos/outages.csv')\n",
    "\n",
    "# Datset Split into Feature Matrix X and Target Vector y\n",
    "X, y = data.iloc[:, 0:3], data['outage']\n",
    "\n",
    "# Hyperparameter Definitions\n",
    "hyperparams = {'criterion': 'entropy', 'max_depth': None, 'min_samples_split': 2, \n",
    "               'min_samples_leaf': 1, 'min_weight_fraction_leaf': 0.0, 'max_features': None, \n",
    "               'random_state': 1909, 'max_leaf_nodes': None, 'min_impurity_decrease':0.0, \n",
    "               'min_impurity_split': None}\n",
    "\n",
    "# Model Initialization\n",
    "model = DecisionTreeClassifier(**hyperparams)"
   ]
  },
  {
   "cell_type": "code",
   "execution_count": 22,
   "metadata": {},
   "outputs": [
    {
     "name": "stdout",
     "output_type": "stream",
     "text": [
      "Overwriting ../slides/snippets/outtage-iterative-dichotomiser-2.py\n"
     ]
    }
   ],
   "source": [
    "%%writefile ../slides/snippets/outtage-iterative-dichotomiser-2.py\n",
    "# Preprocessing\n",
    "categorical_featues = ['vibration', 'error', 'temperature']\n",
    "\n",
    "categorical_transformer = Pipeline([\n",
    "    ('onehotencoder', OneHotEncoder(drop='first')),\n",
    "])\n",
    "\n",
    "preprocessor = ColumnTransformer([\n",
    "    ('categorical_transformer', categorical_transformer, categorical_featues),\n",
    "])\n",
    "\n",
    "pipeline = Pipeline([\n",
    "    ('preprocessor', preprocessor), \n",
    "    ('model', model),\n",
    "])\n",
    "\n",
    "# Pipeline and Model Fitting\n",
    "pipeline.fit(X, y)"
   ]
  },
  {
   "cell_type": "code",
   "execution_count": 23,
   "metadata": {},
   "outputs": [
    {
     "name": "stdout",
     "output_type": "stream",
     "text": [
      "Overwriting ../slides/snippets/outtage-iterative-dichotomiser-3.py\n"
     ]
    }
   ],
   "source": [
    "%%writefile ../slides/snippets/outtage-iterative-dichotomiser-3.py\n",
    "# Prediction Dataset Initialization\n",
    "instance = pd.DataFrame({'vibration': ['medium'], 'error': ['yes'], 'temperature': ['low']})\n",
    "\n",
    "# Prediction and Output\n",
    "prediction = pipeline.predict(instance)\n",
    "prediction_proba = pipeline.predict_proba(instance)\n",
    "print(f'Prediction result: {prediction} ({prediction_proba})')\n",
    "> Prediction result: ['no'] ([[1. 0.]]"
   ]
  },
  {
   "cell_type": "markdown",
   "metadata": {},
   "source": [
    "### Tree Plot"
   ]
  },
  {
   "cell_type": "code",
   "execution_count": 24,
   "metadata": {},
   "outputs": [],
   "source": [
    "feature_names = pipeline.named_steps['preprocessor'].transformers_[0][1].named_steps['onehotencoder'].get_feature_names(X.columns)\n",
    "classes = y.unique()"
   ]
  },
  {
   "cell_type": "code",
   "execution_count": 25,
   "metadata": {},
   "outputs": [
    {
     "data": {
      "image/png": "[encoded data removed]",
      "text/plain": [
       "<Figure size 792x576 with 1 Axes>"
      ]
     },
     "metadata": {
      "needs_background": "light"
     },
     "output_type": "display_data"
    }
   ],
   "source": [
    "fig, ax = plt.subplots(figsize=(FIG_WIDTH, FIG_HEIGHT*2))\n",
    "tree.plot_tree(pipeline['model'], filled=True, feature_names=feature_names, class_names=y.unique(), ax=ax)\n",
    "plt.savefig('../slides/figures/outages-idthree-decision-tree.pdf', transparent=True, bbox_inches='tight', pad_inches=0)"
   ]
  },
  {
   "cell_type": "markdown",
   "metadata": {},
   "source": [
    "### Evaluation"
   ]
  },
  {
   "cell_type": "code",
   "execution_count": 26,
   "metadata": {},
   "outputs": [
    {
     "name": "stdout",
     "output_type": "stream",
     "text": [
      "Average F1 on Training and Test Sets: 100.00%/91.67%\n"
     ]
    }
   ],
   "source": [
    "custom_scorer = make_scorer(f1_score, pos_label='yes')\n",
    "res_cv = cross_validate(pipeline, X, y, scoring=custom_scorer, cv=4, return_train_score=True)\n",
    "res_acc_tr = np.mean(res_cv['train_score']) * 100\n",
    "res_acc_te = np.mean(res_cv['test_score']) * 100\n",
    "print(f'Average F1 on Training and Test Sets: {res_acc_tr:.2f}%/{res_acc_te:.2f}%')"
   ]
  },
  {
   "cell_type": "code",
   "execution_count": 27,
   "metadata": {},
   "outputs": [
    {
     "name": "stdout",
     "output_type": "stream",
     "text": [
      "Overwriting ../slides/snippets/outage-idthree-evaluation.py\n"
     ]
    }
   ],
   "source": [
    "%%writefile ../slides/snippets/outage-idthree-evaluation.py\n",
    "# Additional Import Definitions\n",
    "from sklearn.metrics import make_scorer\n",
    "\n",
    "# 4-Fold Cross-Validation with Custom F1 Scorer\n",
    "custom_scorer = make_scorer(f1_score, pos_label='yes')\n",
    "res_cv = cross_validate(pipeline, X, y, scoring=custom_scorer, cv=4, return_train_score=True)\n",
    "\n",
    "# Avverage F1 Calculation and Output for Training and Test Sets\n",
    "res_f1_tr = np.mean(res_cv['train_score']) * 100\n",
    "res_f1_te = np.mean(res_cv['test_score']) * 100\n",
    "print(f'Average F1 on Training and Test Sets: {res_f1_tr:.2f}%/{res_f1_te:.2f}%')\n",
    "> Average F1 on Training and Test Sets: 100.00%/91.67%"
   ]
  },
  {
   "cell_type": "markdown",
   "metadata": {
    "toc-hr-collapsed": false
   },
   "source": [
    "## Random Forest"
   ]
  },
  {
   "cell_type": "code",
   "execution_count": 28,
   "metadata": {},
   "outputs": [],
   "source": [
    "hyperparams = {\n",
    "    'n_estimators': 4, 'criterion': 'gini', 'max_depth': None, 'min_samples_split': 2, \n",
    "    'min_samples_leaf': 1, 'min_weight_fraction_leaf': 0.0, 'max_features': 'auto', \n",
    "    'max_leaf_nodes': None, 'min_impurity_decrease': 0.0, 'min_impurity_split': None, \n",
    "    'bootstrap': True, 'oob_score': False, 'n_jobs': None, 'random_state': 1909, \n",
    "    'verbose': 0, 'warm_start': False, 'class_weight': None}\n",
    "\n",
    "model = RandomForestClassifier(**hyperparams)\n",
    "\n",
    "pipeline = Pipeline([\n",
    "    ('preprocessor', preprocessor), \n",
    "    ('model', model),\n",
    "])\n",
    "\n",
    "pipeline = pipeline.fit(X, y)"
   ]
  },
  {
   "cell_type": "code",
   "execution_count": 29,
   "metadata": {},
   "outputs": [
    {
     "name": "stdout",
     "output_type": "stream",
     "text": [
      "Overwriting ../slides/snippets/outage-rf-1.py\n"
     ]
    }
   ],
   "source": [
    "%%writefile ../slides/snippets/outage-rf-1.py\n",
    "# Additional Import Definition\n",
    "from sklearn.ensemble import RandomForestClassifier\n",
    "\n",
    "# Hyperparameter Definitions\n",
    "hyperparams = {\n",
    "    'n_estimators': 4, 'criterion': 'gini', 'max_depth': None, 'min_samples_split': 2, \n",
    "    'min_samples_leaf': 1, 'min_weight_fraction_leaf': 0.0, 'max_features': 'auto', \n",
    "    'max_leaf_nodes': None, 'min_impurity_decrease': 0.0, 'min_impurity_split': None, \n",
    "    'bootstrap': True, 'oob_score': False, 'n_jobs': None, 'random_state': 1909, \n",
    "    'verbose': 0, 'warm_start': False, 'class_weight': None}\n",
    "\n",
    "# Model Reinitialization\n",
    "model = RandomForestClassifier(**hyperparams)\n",
    "\n",
    "# Pipeline Reinitialization\n",
    "pipeline = Pipeline([\n",
    "    ('preprocessor', preprocessor), \n",
    "    ('model', model),\n",
    "])"
   ]
  },
  {
   "cell_type": "code",
   "execution_count": 30,
   "metadata": {},
   "outputs": [
    {
     "name": "stdout",
     "output_type": "stream",
     "text": [
      "Average F1 on Training and Test Sets: 97.73%/75.00%\n"
     ]
    }
   ],
   "source": [
    "res_cv = cross_validate(pipeline, X, y, scoring=custom_scorer, cv=4, return_train_score=True)\n",
    "res_acc_tr = np.mean(res_cv['train_score']) * 100\n",
    "res_acc_te = np.mean(res_cv['test_score']) * 100\n",
    "print(f'Average F1 on Training and Test Sets: {res_acc_tr:.2f}%/{res_acc_te:.2f}%')"
   ]
  },
  {
   "cell_type": "code",
   "execution_count": 31,
   "metadata": {},
   "outputs": [
    {
     "name": "stdout",
     "output_type": "stream",
     "text": [
      "Overwriting ../slides/snippets/outage-rf-2.py\n"
     ]
    }
   ],
   "source": [
    "%%writefile ../slides/snippets/outage-rf-2.py\n",
    "# 4-Fold Cross-Validation with Custom F1 Scorer\n",
    "res_cv = cross_validate(pipeline, X, y, scoring=custom_scorer, cv=4, return_train_score=True)\n",
    "\n",
    "# Average F1 Calculation and Output for Training and Test Sets\n",
    "res_f1_tr = np.mean(res_cv['train_score']) * 100\n",
    "res_f1_te = np.mean(res_cv['test_score']) * 100\n",
    "print(f'Average F1 on Training and Test Sets: {res_f1_tr:.2f}%/{res_f1_te:.2f}%')\n",
    "> Average F1 on Training and Test Sets: 97.73%/75.00%"
   ]
  },
  {
   "cell_type": "markdown",
   "metadata": {},
   "source": [
    "### Tree Plot"
   ]
  },
  {
   "cell_type": "code",
   "execution_count": 32,
   "metadata": {},
   "outputs": [],
   "source": [
    "feature_names = pipeline.named_steps['preprocessor'].transformers_[0][1].named_steps['onehotencoder'].get_feature_names(X.columns)\n",
    "classes = y.unique()"
   ]
  },
  {
   "cell_type": "code",
   "execution_count": 33,
   "metadata": {},
   "outputs": [
    {
     "data": {
      "image/png": "[encoded data removed]",
      "text/plain": [
       "<Figure size 864x576 with 4 Axes>"
      ]
     },
     "metadata": {
      "needs_background": "light"
     },
     "output_type": "display_data"
    }
   ],
   "source": [
    "fig = plt.figure(figsize=(12, 8))\n",
    "\n",
    "for idx, model in enumerate(pipeline.named_steps['model'].estimators_):\n",
    "    ax = fig.add_subplot(int(f'22{idx + 1}'))\n",
    "    tree.plot_tree(model, filled=True, feature_names=feature_names, class_names=y.unique(), ax=ax)\n",
    "    fig.tight_layout()\n",
    "fig.tight_layout()\n",
    "plt.savefig('../slides/figures/outages-rf-decision-tree.pdf', transparent=True, bbox_inches='tight', pad_inches=0)"
   ]
  },
  {
   "cell_type": "markdown",
   "metadata": {
    "toc-hr-collapsed": false
   },
   "source": [
    "### Hyperparameter Tuning"
   ]
  },
  {
   "cell_type": "code",
   "execution_count": 34,
   "metadata": {},
   "outputs": [],
   "source": [
    "def report(results, n_top=3):\n",
    "    for i in range(1, n_top + 1):\n",
    "        candidates = np.flatnonzero(results['rank_test_score'] == i)\n",
    "        for candidate in candidates:\n",
    "            print(\"Model with rank: {0}\".format(i))\n",
    "            print(\"Mean validation score: {0:.3f} (std: {1:.3f})\".format(\n",
    "                  results['mean_test_score'][candidate],\n",
    "                  results['std_test_score'][candidate]))\n",
    "            print(\"Parameters: {0}\".format(results['params'][candidate]))\n",
    "            print(\"\")"
   ]
  },
  {
   "cell_type": "markdown",
   "metadata": {},
   "source": [
    "#### Random Search"
   ]
  },
  {
   "cell_type": "code",
   "execution_count": 35,
   "metadata": {},
   "outputs": [],
   "source": [
    "n_estimators = randint(100, 500)\n",
    "max_depth = randint(1, 10)\n",
    "\n",
    "param_distributions = {'model__n_estimators': n_estimators, 'model__max_depth': max_depth}"
   ]
  },
  {
   "cell_type": "code",
   "execution_count": 36,
   "metadata": {},
   "outputs": [
    {
     "name": "stdout",
     "output_type": "stream",
     "text": [
      "RandomizedSearchCV took 4.57 seconds for 5 candidates parameter settings.\n",
      "\n",
      "Model with rank: 1\n",
      "Mean validation score: 0.964 (std: 0.062)\n",
      "Parameters: {'model__max_depth': 6, 'model__n_estimators': 442}\n",
      "\n",
      "Model with rank: 2\n",
      "Mean validation score: 0.881 (std: 0.137)\n",
      "Parameters: {'model__max_depth': 5, 'model__n_estimators': 284}\n",
      "\n",
      "Model with rank: 2\n",
      "Mean validation score: 0.881 (std: 0.137)\n",
      "Parameters: {'model__max_depth': 6, 'model__n_estimators': 266}\n",
      "\n"
     ]
    }
   ],
   "source": [
    "start = time()\n",
    "rs = RandomizedSearchCV(pipeline, param_distributions=param_distributions, n_iter=5, scoring=custom_scorer, n_jobs=-1, iid=False, cv=4, random_state=1909)\n",
    "rs = rs.fit(X, y)\n",
    "print(f\"RandomizedSearchCV took {(time() - start):.2f} seconds for {rs.n_iter} candidates parameter settings.\\n\")\n",
    "report(rs.cv_results_)"
   ]
  },
  {
   "cell_type": "code",
   "execution_count": 37,
   "metadata": {},
   "outputs": [
    {
     "name": "stdout",
     "output_type": "stream",
     "text": [
      "Optimal parameters: {'model__max_depth': 6, 'model__n_estimators': 442}\n"
     ]
    }
   ],
   "source": [
    "print(f'Optimal parameters: {rs.best_params_}')"
   ]
  },
  {
   "cell_type": "code",
   "execution_count": 38,
   "metadata": {},
   "outputs": [
    {
     "name": "stdout",
     "output_type": "stream",
     "text": [
      "Overwriting ../slides/snippets/outage-random-search.py\n"
     ]
    }
   ],
   "source": [
    "%%writefile ../slides/snippets/outage-random-search.py\n",
    "# Additional Import Definition\n",
    "from scipy.stats import randint\n",
    "from sklearn.model_selection import RandomizedSearchCV\n",
    "\n",
    "# Hyperparameter Uniform Sampling Distribution\n",
    "n_estimators = randint(100, 500)\n",
    "max_depth = randint(1, 10)\n",
    "param_distributions = {'model__n_estimators': n_estimators, 'model__max_depth': max_depth}\n",
    "\n",
    "# Initialize Randomized Search\n",
    "rs = RandomizedSearchCV(pipeline, param_distributions=param_distributions, n_iter=5, \n",
    "                        scoring=custom_scorer, n_jobs=-1, iid=False, cv=4, random_state=1909)\n",
    "\n",
    "# Begin Randomized Search with 4-fold Cross Validation\n",
    "rs = rs.fit(X, y)\n",
    "\n",
    "# Output Best Parameters\n",
    "print(f'Optimal parameters: {rs.best_params_}')\n",
    "> Optimal parameters: {'model__max_depth': 6, 'model__n_estimators': 442}"
   ]
  },
  {
   "cell_type": "code",
   "execution_count": 39,
   "metadata": {},
   "outputs": [
    {
     "name": "stdout",
     "output_type": "stream",
     "text": [
      "Overwriting ../slides/snippets/outage-random-search-result.py\n"
     ]
    }
   ],
   "source": [
    "%%writefile ../slides/snippets/outage-random-search-result.py\n",
    "RandomizedSearchCV took 2.55 seconds for 5 candidates parameter settings.\n",
    "\n",
    "Model with rank: 1\n",
    "Mean validation score: 0.964 (std: 0.062)\n",
    "Parameters: {'model__max_depth': 6, 'model__n_estimators': 442}\n",
    "\n",
    "Model with rank: 2\n",
    "Mean validation score: 0.881 (std: 0.137)\n",
    "Parameters: {'model__max_depth': 5, 'model__n_estimators': 284}\n",
    "\n",
    "Model with rank: 2\n",
    "Mean validation score: 0.881 (std: 0.137)\n",
    "Parameters: {'model__max_depth': 6, 'model__n_estimators': 266}\n",
    "    \n",
    "..."
   ]
  },
  {
   "cell_type": "markdown",
   "metadata": {},
   "source": [
    "#### Grid Search"
   ]
  },
  {
   "cell_type": "code",
   "execution_count": 40,
   "metadata": {},
   "outputs": [],
   "source": [
    "n_estimators = [100, 200, 300, 400, 500]\n",
    "max_depth = [1, 2, 3, 5, 6, 7, 8, 9, 10]\n",
    "param_grid = {'model__n_estimators': n_estimators,  'model__max_depth': max_depth}"
   ]
  },
  {
   "cell_type": "code",
   "execution_count": 41,
   "metadata": {},
   "outputs": [
    {
     "name": "stdout",
     "output_type": "stream",
     "text": [
      "GridSearchCV took 18.40 seconds for 45 candidates parameter settings.\n",
      "\n",
      "Model with rank: 1\n",
      "Mean validation score: 0.964 (std: 0.062)\n",
      "Parameters: {'model__max_depth': 3, 'model__n_estimators': 400}\n",
      "\n",
      "Model with rank: 1\n",
      "Mean validation score: 0.964 (std: 0.062)\n",
      "Parameters: {'model__max_depth': 3, 'model__n_estimators': 500}\n",
      "\n",
      "Model with rank: 1\n",
      "Mean validation score: 0.964 (std: 0.062)\n",
      "Parameters: {'model__max_depth': 5, 'model__n_estimators': 400}\n",
      "\n",
      "Model with rank: 1\n",
      "Mean validation score: 0.964 (std: 0.062)\n",
      "Parameters: {'model__max_depth': 5, 'model__n_estimators': 500}\n",
      "\n",
      "Model with rank: 1\n",
      "Mean validation score: 0.964 (std: 0.062)\n",
      "Parameters: {'model__max_depth': 6, 'model__n_estimators': 400}\n",
      "\n",
      "Model with rank: 1\n",
      "Mean validation score: 0.964 (std: 0.062)\n",
      "Parameters: {'model__max_depth': 6, 'model__n_estimators': 500}\n",
      "\n",
      "Model with rank: 1\n",
      "Mean validation score: 0.964 (std: 0.062)\n",
      "Parameters: {'model__max_depth': 7, 'model__n_estimators': 400}\n",
      "\n",
      "Model with rank: 1\n",
      "Mean validation score: 0.964 (std: 0.062)\n",
      "Parameters: {'model__max_depth': 7, 'model__n_estimators': 500}\n",
      "\n",
      "Model with rank: 1\n",
      "Mean validation score: 0.964 (std: 0.062)\n",
      "Parameters: {'model__max_depth': 8, 'model__n_estimators': 400}\n",
      "\n",
      "Model with rank: 1\n",
      "Mean validation score: 0.964 (std: 0.062)\n",
      "Parameters: {'model__max_depth': 8, 'model__n_estimators': 500}\n",
      "\n",
      "Model with rank: 1\n",
      "Mean validation score: 0.964 (std: 0.062)\n",
      "Parameters: {'model__max_depth': 9, 'model__n_estimators': 400}\n",
      "\n",
      "Model with rank: 1\n",
      "Mean validation score: 0.964 (std: 0.062)\n",
      "Parameters: {'model__max_depth': 9, 'model__n_estimators': 500}\n",
      "\n",
      "Model with rank: 1\n",
      "Mean validation score: 0.964 (std: 0.062)\n",
      "Parameters: {'model__max_depth': 10, 'model__n_estimators': 400}\n",
      "\n",
      "Model with rank: 1\n",
      "Mean validation score: 0.964 (std: 0.062)\n",
      "Parameters: {'model__max_depth': 10, 'model__n_estimators': 500}\n",
      "\n"
     ]
    }
   ],
   "source": [
    "start = time()\n",
    "gs = GridSearchCV(pipeline, param_grid=param_grid, scoring=custom_scorer, n_jobs=-1, iid=False, cv=4)\n",
    "gs = gs.fit(X, y)\n",
    "print(f\"GridSearchCV took {(time() - start):.2f} seconds for {len(gs.cv_results_['params'])} candidates parameter settings.\\n\")\n",
    "report(gs.cv_results_, n_top=9)"
   ]
  },
  {
   "cell_type": "code",
   "execution_count": 42,
   "metadata": {},
   "outputs": [
    {
     "data": {
      "text/plain": [
       "{'model__max_depth': 3, 'model__n_estimators': 400}"
      ]
     },
     "execution_count": 42,
     "metadata": {},
     "output_type": "execute_result"
    }
   ],
   "source": [
    "gs.best_params_"
   ]
  },
  {
   "cell_type": "code",
   "execution_count": 43,
   "metadata": {},
   "outputs": [
    {
     "name": "stdout",
     "output_type": "stream",
     "text": [
      "Overwriting ../slides/snippets/outage-grid-search.py\n"
     ]
    }
   ],
   "source": [
    "%%writefile ../slides/snippets/outage-grid-search.py\n",
    "# Additional Import Definition\n",
    "from sklearn.model_selection import GridSearchCV\n",
    "\n",
    "# Hyperparameter Grid Setup\n",
    "n_estimators = [100, 200, 300, 400, 500]\n",
    "max_depth = [1, 2, 3, 5, 6, 7, 8, 9, 10]\n",
    "param_grid = {'model__n_estimators': n_estimators,  'model__max_depth': max_depth}\n",
    "\n",
    "# Initialize Grid Search\n",
    "gs = GridSearchCV(pipeline, param_grid=param_grid, scoring=custom_scorer, n_jobs=-1, \n",
    "                  iid=False, cv=4)\n",
    "gs = gs.fit(X, y)\n",
    "\n",
    "# Begin Grid Search with 4-fold Cross Validation\n",
    "gs = grid_search_cv.fit(X, y)\n",
    "\n",
    "# Output Best Parameters\n",
    "print(f'Optimal parameters: {gs.best_params_}')\n",
    "> Optimal parameters: {'model__max_depth': 3, 'model__n_estimators': 400}"
   ]
  },
  {
   "cell_type": "code",
   "execution_count": 44,
   "metadata": {},
   "outputs": [
    {
     "name": "stdout",
     "output_type": "stream",
     "text": [
      "Overwriting ../slides/snippets/outage-grid-result-1.py\n"
     ]
    }
   ],
   "source": [
    "%%writefile ../slides/snippets/outage-grid-result-1.py\n",
    "GridSearchCV took 17.59 seconds for 45 candidates parameter settings.\n",
    "\n",
    "Model with rank: 1\n",
    "Mean validation score: 0.964 (std: 0.062)\n",
    "Parameters: {'model__max_depth': 3, 'model__n_estimators': 400}\n",
    "\n",
    "Model with rank: 1\n",
    "Mean validation score: 0.964 (std: 0.062)\n",
    "Parameters: {'model__max_depth': 3, 'model__n_estimators': 500}\n",
    "\n",
    "Model with rank: 1\n",
    "Mean validation score: 0.964 (std: 0.062)\n",
    "Parameters: {'model__max_depth': 5, 'model__n_estimators': 400}\n",
    "    \n",
    "..."
   ]
  },
  {
   "cell_type": "code",
   "execution_count": 45,
   "metadata": {},
   "outputs": [],
   "source": [
    "model = RandomForestClassifier(n_estimators=442, max_depth=6, random_state=1909)\n",
    "\n",
    "pipeline = Pipeline([\n",
    "    ('preprocessor', preprocessor), \n",
    "    ('model', model),\n",
    "])\n",
    "\n",
    "pipeline = pipeline.fit(X, y)"
   ]
  },
  {
   "cell_type": "code",
   "execution_count": 46,
   "metadata": {},
   "outputs": [
    {
     "name": "stdout",
     "output_type": "stream",
     "text": [
      "Average F1 on Training and Test Sets: 100.00%/96.43%\n"
     ]
    }
   ],
   "source": [
    "res_cv = cross_validate(pipeline, X, y, scoring=custom_scorer, cv=4, return_train_score=True)\n",
    "res_acc_tr = np.mean(res_cv['train_score']) * 100\n",
    "res_acc_te = np.mean(res_cv['test_score']) * 100\n",
    "print(f'Average F1 on Training and Test Sets: {res_acc_tr:.2f}%/{res_acc_te:.2f}%')"
   ]
  },
  {
   "cell_type": "code",
   "execution_count": 47,
   "metadata": {},
   "outputs": [
    {
     "name": "stdout",
     "output_type": "stream",
     "text": [
      "Overwriting ../slides/snippets/outage-rf-final.py\n"
     ]
    }
   ],
   "source": [
    "%%writefile ../slides/snippets/outage-rf-final.py\n",
    "# Model Reinitialization\n",
    "model = RandomForestClassifier(n_estimators=442, max_depth=6, random_state=1909)\n",
    "\n",
    "# Pipeline Reinitialization and Fitting\n",
    "pipeline = Pipeline([\n",
    "    ('preprocessor', preprocessor), \n",
    "    ('model', model),\n",
    "])\n",
    "\n",
    "pipeline = pipeline.fit(X, y)\n",
    "\n",
    "# Average F1 Calculation and Output for Training and Test Sets\n",
    "res_cv = cross_validate(pipeline, X, y, scoring=custom_scorer, cv=4, return_train_score=True)\n",
    "res_f1_tr = np.mean(res_cv['train_score']) * 100\n",
    "res_f1_te = np.mean(res_cv['test_score']) * 100\n",
    "print(f'Average F1 on Training and Test Sets: {res_f1_tr:.2f}%/{res_f1_te:.2f}%')\n",
    "> Average F1 on Training and Test Sets: 100.00%/96.43%"
   ]
  },
  {
   "cell_type": "markdown",
   "metadata": {},
   "source": [
    "## Development Exercise"
   ]
  },
  {
   "cell_type": "code",
   "execution_count": 48,
   "metadata": {},
   "outputs": [],
   "source": [
    "data = pd.read_csv('../datasets/exercises/backorders.csv')"
   ]
  },
  {
   "cell_type": "code",
   "execution_count": 49,
   "metadata": {},
   "outputs": [
    {
     "data": {
      "text/html": [
       "<div>\n",
       "<style scoped>\n",
       "    .dataframe tbody tr th:only-of-type {\n",
       "        vertical-align: middle;\n",
       "    }\n",
       "\n",
       "    .dataframe tbody tr th {\n",
       "        vertical-align: top;\n",
       "    }\n",
       "\n",
       "    .dataframe thead th {\n",
       "        text-align: right;\n",
       "    }\n",
       "</style>\n",
       "<table border=\"1\" class=\"dataframe\">\n",
       "  <thead>\n",
       "    <tr style=\"text-align: right;\">\n",
       "      <th></th>\n",
       "      <th>national_inv</th>\n",
       "      <th>in_transit_qty</th>\n",
       "      <th>forecast_3_month</th>\n",
       "      <th>forecast_6_month</th>\n",
       "      <th>forecast_9_month</th>\n",
       "      <th>sales_1_month</th>\n",
       "      <th>sales_3_month</th>\n",
       "      <th>sales_6_month</th>\n",
       "      <th>sales_9_month</th>\n",
       "      <th>ppap_risk</th>\n",
       "      <th>went_on_backorder</th>\n",
       "    </tr>\n",
       "  </thead>\n",
       "  <tbody>\n",
       "    <tr>\n",
       "      <th>0</th>\n",
       "      <td>0.0</td>\n",
       "      <td>0.0</td>\n",
       "      <td>3.0</td>\n",
       "      <td>4.0</td>\n",
       "      <td>6.0</td>\n",
       "      <td>1.0</td>\n",
       "      <td>1.0</td>\n",
       "      <td>3.0</td>\n",
       "      <td>3.0</td>\n",
       "      <td>no</td>\n",
       "      <td>yes</td>\n",
       "    </tr>\n",
       "    <tr>\n",
       "      <th>1</th>\n",
       "      <td>17.0</td>\n",
       "      <td>0.0</td>\n",
       "      <td>0.0</td>\n",
       "      <td>0.0</td>\n",
       "      <td>0.0</td>\n",
       "      <td>0.0</td>\n",
       "      <td>0.0</td>\n",
       "      <td>0.0</td>\n",
       "      <td>0.0</td>\n",
       "      <td>yes</td>\n",
       "      <td>no</td>\n",
       "    </tr>\n",
       "    <tr>\n",
       "      <th>2</th>\n",
       "      <td>605.0</td>\n",
       "      <td>0.0</td>\n",
       "      <td>0.0</td>\n",
       "      <td>0.0</td>\n",
       "      <td>0.0</td>\n",
       "      <td>0.0</td>\n",
       "      <td>0.0</td>\n",
       "      <td>80.0</td>\n",
       "      <td>90.0</td>\n",
       "      <td>no</td>\n",
       "      <td>no</td>\n",
       "    </tr>\n",
       "    <tr>\n",
       "      <th>3</th>\n",
       "      <td>18.0</td>\n",
       "      <td>0.0</td>\n",
       "      <td>37.0</td>\n",
       "      <td>72.0</td>\n",
       "      <td>117.0</td>\n",
       "      <td>8.0</td>\n",
       "      <td>30.0</td>\n",
       "      <td>31.0</td>\n",
       "      <td>31.0</td>\n",
       "      <td>no</td>\n",
       "      <td>no</td>\n",
       "    </tr>\n",
       "    <tr>\n",
       "      <th>4</th>\n",
       "      <td>0.0</td>\n",
       "      <td>0.0</td>\n",
       "      <td>12.0</td>\n",
       "      <td>18.0</td>\n",
       "      <td>18.0</td>\n",
       "      <td>0.0</td>\n",
       "      <td>0.0</td>\n",
       "      <td>0.0</td>\n",
       "      <td>0.0</td>\n",
       "      <td>yes</td>\n",
       "      <td>yes</td>\n",
       "    </tr>\n",
       "  </tbody>\n",
       "</table>\n",
       "</div>"
      ],
      "text/plain": [
       "   national_inv  in_transit_qty  forecast_3_month  forecast_6_month  \\\n",
       "0           0.0             0.0               3.0               4.0   \n",
       "1          17.0             0.0               0.0               0.0   \n",
       "2         605.0             0.0               0.0               0.0   \n",
       "3          18.0             0.0              37.0              72.0   \n",
       "4           0.0             0.0              12.0              18.0   \n",
       "\n",
       "   forecast_9_month  sales_1_month  sales_3_month  sales_6_month  \\\n",
       "0               6.0            1.0            1.0            3.0   \n",
       "1               0.0            0.0            0.0            0.0   \n",
       "2               0.0            0.0            0.0           80.0   \n",
       "3             117.0            8.0           30.0           31.0   \n",
       "4              18.0            0.0            0.0            0.0   \n",
       "\n",
       "   sales_9_month ppap_risk went_on_backorder  \n",
       "0            3.0        no               yes  \n",
       "1            0.0       yes                no  \n",
       "2           90.0        no                no  \n",
       "3           31.0        no                no  \n",
       "4            0.0       yes               yes  "
      ]
     },
     "execution_count": 49,
     "metadata": {},
     "output_type": "execute_result"
    }
   ],
   "source": [
    "data.head()"
   ]
  },
  {
   "cell_type": "code",
   "execution_count": 62,
   "metadata": {},
   "outputs": [],
   "source": [
    "pd.DataFrame([[100, 0, 2, 5, 6, 1, 2, 5, 1, 'no']], columns=data.columns[:-1]).iloc[:, 0:5].to_latex('../slides/tables/backorder-prediction-set.tex', index=False)"
   ]
  },
  {
   "cell_type": "code",
   "execution_count": 61,
   "metadata": {},
   "outputs": [],
   "source": [
    "pd.DataFrame([[100, 0, 2, 5, 6, 1, 2, 5, 1, 'no']], columns=data.columns[:-1]).iloc[:, 5:10].to_latex('../slides/tables/backorder-prediction-set-1.tex', index=False)"
   ]
  },
  {
   "cell_type": "code",
   "execution_count": null,
   "metadata": {},
   "outputs": [],
   "source": []
  }
 ],
 "metadata": {
  "kernelspec": {
   "display_name": "Python 3",
   "language": "python",
   "name": "python3"
  },
  "language_info": {
   "codemirror_mode": {
    "name": "ipython",
    "version": 3
   },
   "file_extension": ".py",
   "mimetype": "text/x-python",
   "name": "python",
   "nbconvert_exporter": "python",
   "pygments_lexer": "ipython3",
   "version": "3.6.8"
  }
 },
 "nbformat": 4,
 "nbformat_minor": 4
}
