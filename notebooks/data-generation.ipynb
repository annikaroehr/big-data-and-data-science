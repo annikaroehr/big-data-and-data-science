{
 "cells": [
  {
   "cell_type": "markdown",
   "metadata": {},
   "source": [
    "# Data Generation"
   ]
  },
  {
   "cell_type": "code",
   "execution_count": 2,
   "metadata": {},
   "outputs": [],
   "source": [
    "# Magic Commands\n",
    "%matplotlib inline\n",
    "\n",
    "# Third-Party Packages\n",
    "import matplotlib.pyplot as plt\n",
    "import numpy as np\n",
    "import pandas as pd"
   ]
  },
  {
   "cell_type": "markdown",
   "metadata": {},
   "source": [
    "## Rental Prices (Simple Linear, Polynomial and Multiple Linear Regression)"
   ]
  },
  {
   "cell_type": "code",
   "execution_count": 4,
   "metadata": {},
   "outputs": [],
   "source": [
    "np.random.seed(0)\n",
    "\n",
    "sample_size = 40\n",
    "true_function = lambda x: np.cos(2 * np.pi * (x + 0.2))\n",
    "\n",
    "X = np.sort(np.random.rand(sample_size))\n",
    "y = true_function(X) + np.random.randn(sample_size) * 0.2\n",
    "\n",
    "rental_prices = pd.DataFrame({'apartment_size': np.round(X * 20 + 40, 2), 'rental_price': np.round(y * 100 + 550, 2)})\n",
    "rental_prices.loc[rental_prices['rental_price'] < 500, 'age'] = np.random.randint(50, 55, 6)\n",
    "rental_prices.loc[rental_prices['rental_price'] >= 500, 'age'] = np.random.randint(5, 10, 34)\n",
    "\n",
    "rental_prices.to_csv('../datasets/demos/rental-prices.csv', index=False)\n",
    "rental_prices.to_csv('../datasets/exercises/rental-prices.csv', index=False)"
   ]
  },
  {
   "cell_type": "code",
   "execution_count": 3,
   "metadata": {},
   "outputs": [
    {
     "data": {
      "text/html": [
       "<div>\n",
       "<style scoped>\n",
       "    .dataframe tbody tr th:only-of-type {\n",
       "        vertical-align: middle;\n",
       "    }\n",
       "\n",
       "    .dataframe tbody tr th {\n",
       "        vertical-align: top;\n",
       "    }\n",
       "\n",
       "    .dataframe thead th {\n",
       "        text-align: right;\n",
       "    }\n",
       "</style>\n",
       "<table border=\"1\" class=\"dataframe\">\n",
       "  <thead>\n",
       "    <tr style=\"text-align: right;\">\n",
       "      <th></th>\n",
       "      <th>apartment_size</th>\n",
       "      <th>rental_price</th>\n",
       "      <th>age</th>\n",
       "    </tr>\n",
       "  </thead>\n",
       "  <tbody>\n",
       "    <tr>\n",
       "      <th>0</th>\n",
       "      <td>40.38</td>\n",
       "      <td>551.73</td>\n",
       "      <td>5.0</td>\n",
       "    </tr>\n",
       "    <tr>\n",
       "      <th>1</th>\n",
       "      <td>40.40</td>\n",
       "      <td>528.99</td>\n",
       "      <td>5.0</td>\n",
       "    </tr>\n",
       "    <tr>\n",
       "      <th>2</th>\n",
       "      <td>41.42</td>\n",
       "      <td>529.86</td>\n",
       "      <td>8.0</td>\n",
       "    </tr>\n",
       "    <tr>\n",
       "      <th>3</th>\n",
       "      <td>41.74</td>\n",
       "      <td>530.01</td>\n",
       "      <td>7.0</td>\n",
       "    </tr>\n",
       "    <tr>\n",
       "      <th>4</th>\n",
       "      <td>42.37</td>\n",
       "      <td>533.01</td>\n",
       "      <td>8.0</td>\n",
       "    </tr>\n",
       "  </tbody>\n",
       "</table>\n",
       "</div>"
      ],
      "text/plain": [
       "   apartment_size  rental_price  age\n",
       "0           40.38        551.73  5.0\n",
       "1           40.40        528.99  5.0\n",
       "2           41.42        529.86  8.0\n",
       "3           41.74        530.01  7.0\n",
       "4           42.37        533.01  8.0"
      ]
     },
     "execution_count": 3,
     "metadata": {},
     "output_type": "execute_result"
    }
   ],
   "source": [
    "rental_prices.head()"
   ]
  },
  {
   "cell_type": "markdown",
   "metadata": {},
   "source": [
    "## Exam Performance (Logistic Regression)"
   ]
  },
  {
   "cell_type": "markdown",
   "metadata": {},
   "source": [
    "## Outages (ID3)"
   ]
  },
  {
   "cell_type": "code",
   "execution_count": 4,
   "metadata": {},
   "outputs": [],
   "source": [
    "vibration = ['low', 'low', 'high', 'medium', 'medium', 'medium', 'high', 'low', 'low', 'medium', 'low', 'high', 'high', 'medium']\n",
    "error = ['no', 'no', 'no', 'no', 'yes', 'yes', 'yes', 'no', 'yes', 'yes', 'yes', 'no', 'yes', 'yes']\n",
    "temperature = ['high', 'low', 'high', 'high', 'high', 'low', 'low', 'high', 'high', 'high', 'low', 'low', 'high', 'low']\n",
    "outage = ['no', 'no', 'yes', 'yes', 'yes', 'no', 'yes', 'no', 'yes', 'yes', 'yes', 'yes', 'yes', 'no']"
   ]
  },
  {
   "cell_type": "code",
   "execution_count": 5,
   "metadata": {},
   "outputs": [],
   "source": [
    "outages = pd.DataFrame({'vibration': vibration, 'error': error, 'temperature': temperature, 'outage': outage})\n",
    "outages.to_csv('../datasets/demos/outages.csv', index=False)"
   ]
  }
 ],
 "metadata": {
  "kernelspec": {
   "display_name": "Python 3",
   "language": "python",
   "name": "python3"
  },
  "language_info": {
   "codemirror_mode": {
    "name": "ipython",
    "version": 3
   },
   "file_extension": ".py",
   "mimetype": "text/x-python",
   "name": "python",
   "nbconvert_exporter": "python",
   "pygments_lexer": "ipython3",
   "version": "3.6.8"
  }
 },
 "nbformat": 4,
 "nbformat_minor": 4
}
