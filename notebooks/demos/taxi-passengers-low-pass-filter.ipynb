{
 "cells": [
  {
   "cell_type": "markdown",
   "metadata": {},
   "source": [
    "[![Open In Colab](https://colab.research.google.com/assets/colab-badge.svg)](https://colab.research.google.com/github/saschaschworm/big-data-and-data-science/blob/master/notebooks/demos/taxi-passengers-low-pass-filter.ipynb)"
   ]
  },
  {
   "cell_type": "code",
   "execution_count": 1,
   "metadata": {},
   "outputs": [],
   "source": [
    "import pandas as pd"
   ]
  },
  {
   "cell_type": "code",
   "execution_count": 2,
   "metadata": {},
   "outputs": [],
   "source": [
    "data = pd.read_csv('https://raw.githubusercontent.com/saschaschworm/big-data-and-data-science/master/datasets/demos/taxi-passengers.csv')\n",
    "data['date'] = pd.to_datetime(data['date'], format='%Y-%m-%d')\n",
    "data.index = data['date']"
   ]
  },
  {
   "cell_type": "code",
   "execution_count": 3,
   "metadata": {},
   "outputs": [],
   "source": [
    "data['mean3d'] = data['passengers'].rolling(3).mean()\n",
    "data['mean5d'] = data['passengers'].rolling(5).mean()\n",
    "data['mean10d'] = data['passengers'].rolling(10).mean()\n",
    "data['std10dmean'] = data['passengers'].rolling(10).std()"
   ]
  },
  {
   "cell_type": "code",
   "execution_count": 4,
   "metadata": {},
   "outputs": [],
   "source": [
    "upper_threshold = data['mean10d'] + 2 * data['std10dmean']\n",
    "lower_threshold = data['mean10d'] - 2 * data['std10dmean']\n",
    "anomalies = data[\n",
    "    (data['passengers'] > upper_threshold) | \n",
    "    (data['passengers'] < lower_threshold)\n",
    "]"
   ]
  },
  {
   "cell_type": "code",
   "execution_count": 5,
   "metadata": {},
   "outputs": [
    {
     "data": {
      "text/html": [
       "<div>\n",
       "<style scoped>\n",
       "    .dataframe tbody tr th:only-of-type {\n",
       "        vertical-align: middle;\n",
       "    }\n",
       "\n",
       "    .dataframe tbody tr th {\n",
       "        vertical-align: top;\n",
       "    }\n",
       "\n",
       "    .dataframe thead th {\n",
       "        text-align: right;\n",
       "    }\n",
       "</style>\n",
       "<table border=\"1\" class=\"dataframe\">\n",
       "  <thead>\n",
       "    <tr style=\"text-align: right;\">\n",
       "      <th></th>\n",
       "      <th>date</th>\n",
       "      <th>passengers</th>\n",
       "      <th>mean3d</th>\n",
       "      <th>mean5d</th>\n",
       "      <th>mean10d</th>\n",
       "      <th>std10dmean</th>\n",
       "    </tr>\n",
       "    <tr>\n",
       "      <th>date</th>\n",
       "      <th></th>\n",
       "      <th></th>\n",
       "      <th></th>\n",
       "      <th></th>\n",
       "      <th></th>\n",
       "      <th></th>\n",
       "    </tr>\n",
       "  </thead>\n",
       "  <tbody>\n",
       "    <tr>\n",
       "      <th>2014-07-28</th>\n",
       "      <td>2014-07-28</td>\n",
       "      <td>605561</td>\n",
       "      <td>705146.333333</td>\n",
       "      <td>734735.4</td>\n",
       "      <td>736687.4</td>\n",
       "      <td>63543.983931</td>\n",
       "    </tr>\n",
       "    <tr>\n",
       "      <th>2014-11-01</th>\n",
       "      <td>2014-11-01</td>\n",
       "      <td>986568</td>\n",
       "      <td>867704.333333</td>\n",
       "      <td>813265.2</td>\n",
       "      <td>799916.4</td>\n",
       "      <td>88075.137056</td>\n",
       "    </tr>\n",
       "    <tr>\n",
       "      <th>2014-11-27</th>\n",
       "      <td>2014-11-27</td>\n",
       "      <td>523184</td>\n",
       "      <td>638982.333333</td>\n",
       "      <td>661608.2</td>\n",
       "      <td>727827.2</td>\n",
       "      <td>99926.853504</td>\n",
       "    </tr>\n",
       "    <tr>\n",
       "      <th>2014-12-25</th>\n",
       "      <td>2014-12-25</td>\n",
       "      <td>379302</td>\n",
       "      <td>541696.000000</td>\n",
       "      <td>599803.0</td>\n",
       "      <td>699059.8</td>\n",
       "      <td>142964.452761</td>\n",
       "    </tr>\n",
       "    <tr>\n",
       "      <th>2015-01-10</th>\n",
       "      <td>2015-01-10</td>\n",
       "      <td>892664</td>\n",
       "      <td>794973.000000</td>\n",
       "      <td>744762.2</td>\n",
       "      <td>690889.0</td>\n",
       "      <td>95758.066473</td>\n",
       "    </tr>\n",
       "    <tr>\n",
       "      <th>2015-01-26</th>\n",
       "      <td>2015-01-26</td>\n",
       "      <td>375311</td>\n",
       "      <td>622690.333333</td>\n",
       "      <td>677959.0</td>\n",
       "      <td>690145.0</td>\n",
       "      <td>132567.834680</td>\n",
       "    </tr>\n",
       "    <tr>\n",
       "      <th>2015-01-27</th>\n",
       "      <td>2015-01-27</td>\n",
       "      <td>232058</td>\n",
       "      <td>433877.000000</td>\n",
       "      <td>576495.4</td>\n",
       "      <td>630455.1</td>\n",
       "      <td>186522.016493</td>\n",
       "    </tr>\n",
       "  </tbody>\n",
       "</table>\n",
       "</div>"
      ],
      "text/plain": [
       "                 date  passengers         mean3d    mean5d   mean10d  \\\n",
       "date                                                                   \n",
       "2014-07-28 2014-07-28      605561  705146.333333  734735.4  736687.4   \n",
       "2014-11-01 2014-11-01      986568  867704.333333  813265.2  799916.4   \n",
       "2014-11-27 2014-11-27      523184  638982.333333  661608.2  727827.2   \n",
       "2014-12-25 2014-12-25      379302  541696.000000  599803.0  699059.8   \n",
       "2015-01-10 2015-01-10      892664  794973.000000  744762.2  690889.0   \n",
       "2015-01-26 2015-01-26      375311  622690.333333  677959.0  690145.0   \n",
       "2015-01-27 2015-01-27      232058  433877.000000  576495.4  630455.1   \n",
       "\n",
       "               std10dmean  \n",
       "date                       \n",
       "2014-07-28   63543.983931  \n",
       "2014-11-01   88075.137056  \n",
       "2014-11-27   99926.853504  \n",
       "2014-12-25  142964.452761  \n",
       "2015-01-10   95758.066473  \n",
       "2015-01-26  132567.834680  \n",
       "2015-01-27  186522.016493  "
      ]
     },
     "execution_count": 5,
     "metadata": {},
     "output_type": "execute_result"
    }
   ],
   "source": [
    "anomalies"
   ]
  }
 ],
 "metadata": {
  "kernelspec": {
   "display_name": "Python 3",
   "language": "python",
   "name": "python3"
  },
  "language_info": {
   "codemirror_mode": {
    "name": "ipython",
    "version": 3
   },
   "file_extension": ".py",
   "mimetype": "text/x-python",
   "name": "python",
   "nbconvert_exporter": "python",
   "pygments_lexer": "ipython3",
   "version": "3.6.8"
  }
 },
 "nbformat": 4,
 "nbformat_minor": 4
}
