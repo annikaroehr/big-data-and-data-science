{
 "cells": [
  {
   "cell_type": "code",
   "execution_count": 1,
   "metadata": {},
   "outputs": [],
   "source": [
    "import numpy as np\n",
    "import pandas as pd\n",
    "from scipy.stats import randint\n",
    "from sklearn.compose import ColumnTransformer\n",
    "from sklearn.metrics import make_scorer, recall_score\n",
    "from sklearn.model_selection import cross_validate, RandomizedSearchCV\n",
    "from sklearn.pipeline import Pipeline\n",
    "from sklearn.preprocessing import MinMaxScaler, OneHotEncoder\n",
    "from sklearn.svm import SVC"
   ]
  },
  {
   "cell_type": "code",
   "execution_count": 2,
   "metadata": {},
   "outputs": [],
   "source": [
    "data = pd.read_csv('../../datasets/exercises/customer-churn.csv')\n",
    "X, y = data[['tenure', 'Contract', 'PaymentMethod', 'MonthlyCharges']], data['Churn']"
   ]
  },
  {
   "cell_type": "code",
   "execution_count": 3,
   "metadata": {},
   "outputs": [],
   "source": [
    "categorical_featues = ['Contract', 'PaymentMethod']\n",
    "numerical_features = ['tenure', 'MonthlyCharges']\n",
    "\n",
    "categorical_transformer = Pipeline([\n",
    "    ('onehotencoder', OneHotEncoder(drop='first')),\n",
    "])\n",
    "\n",
    "numerical_transformer = Pipeline([\n",
    "    ('scaler', MinMaxScaler()),\n",
    "])\n",
    "\n",
    "preprocessor = ColumnTransformer([\n",
    "    ('categorical_transformer', categorical_transformer, categorical_featues),\n",
    "    ('numerical_transformer', numerical_transformer, numerical_features),\n",
    "])\n",
    "\n",
    "pipeline = Pipeline([\n",
    "    ('preprocessor', preprocessor), \n",
    "    ('model', SVC(random_state=1909, gamma='auto')),\n",
    "])"
   ]
  },
  {
   "cell_type": "code",
   "execution_count": 4,
   "metadata": {},
   "outputs": [],
   "source": [
    "custom_scorer = make_scorer(recall_score, pos_label='Yes')"
   ]
  },
  {
   "cell_type": "code",
   "execution_count": 5,
   "metadata": {},
   "outputs": [
    {
     "data": {
      "text/plain": [
       "'Average Recall on Training and Test Sets (Benchmark): 88.39%/88.39%'"
      ]
     },
     "execution_count": 5,
     "metadata": {},
     "output_type": "execute_result"
    }
   ],
   "source": [
    "res_cv = cross_validate(pipeline, X, y, scoring=custom_scorer, cv=10, return_train_score=True)\n",
    "res_recall_tr = np.mean(res_cv['train_score']) * 100\n",
    "res_recall_te = np.mean(res_cv['test_score']) * 100\n",
    "f'Average Recall on Training and Test Sets (Benchmark): {res_recall_tr:.2f}%/{res_recall_te:.2f}%'"
   ]
  },
  {
   "cell_type": "code",
   "execution_count": 6,
   "metadata": {},
   "outputs": [],
   "source": [
    "C, kernel, degree, gamma = randint(1, 100), ['rbf', 'poly'], randint(1, 100), ['auto']\n",
    "param_distributions = {'model__C': C, 'model__kernel': kernel, 'model__degree': degree, 'model__gamma': gamma}"
   ]
  },
  {
   "cell_type": "code",
   "execution_count": 7,
   "metadata": {},
   "outputs": [
    {
     "data": {
      "text/plain": [
       "\"Optimal parameters: {'model__C': 57, 'model__degree': 61, 'model__gamma': 'auto', 'model__kernel': 'poly'}\""
      ]
     },
     "execution_count": 7,
     "metadata": {},
     "output_type": "execute_result"
    }
   ],
   "source": [
    "rs = RandomizedSearchCV(pipeline, param_distributions=param_distributions, \n",
    "                        n_iter=5, scoring=custom_scorer, n_jobs=-1, iid=False, \n",
    "                        cv=10, random_state=1909)\n",
    "rs = rs.fit(X, y)\n",
    "f'Optimal parameters: {rs.best_params_}'"
   ]
  },
  {
   "cell_type": "code",
   "execution_count": 8,
   "metadata": {},
   "outputs": [],
   "source": [
    "pipeline = Pipeline([\n",
    "    ('preprocessor', preprocessor), \n",
    "    ('model', SVC(C=57, kernel='poly', degree=51, gamma='auto', random_state=1909)),\n",
    "])\n",
    "\n",
    "pipeline = pipeline.fit(X, y)"
   ]
  },
  {
   "cell_type": "code",
   "execution_count": 9,
   "metadata": {},
   "outputs": [],
   "source": [
    "prediction_set = pd.DataFrame({'tenure': [20], 'Contract': ['One year'], 'PaymentMethod': ['Credit card (automatic)'], 'MonthlyCharges': [50]})"
   ]
  },
  {
   "cell_type": "code",
   "execution_count": 10,
   "metadata": {},
   "outputs": [
    {
     "data": {
      "text/plain": [
       "array(['Yes'], dtype=object)"
      ]
     },
     "execution_count": 10,
     "metadata": {},
     "output_type": "execute_result"
    }
   ],
   "source": [
    "pipeline.predict(prediction_set)"
   ]
  },
  {
   "cell_type": "code",
   "execution_count": 11,
   "metadata": {},
   "outputs": [
    {
     "data": {
      "text/plain": [
       "'Average Recall on Training and Test Sets: 100.00%/100.00%'"
      ]
     },
     "execution_count": 11,
     "metadata": {},
     "output_type": "execute_result"
    }
   ],
   "source": [
    "res_cv = cross_validate(pipeline, X, y, scoring=custom_scorer, cv=10, return_train_score=True)\n",
    "res_recall_tr = np.mean(res_cv['train_score']) * 100\n",
    "res_recall_te = np.mean(res_cv['test_score']) * 100\n",
    "f'Average Recall on Training and Test Sets: {res_recall_tr:.2f}%/{res_recall_te:.2f}%'"
   ]
  }
 ],
 "metadata": {
  "kernelspec": {
   "display_name": "Python 3",
   "language": "python",
   "name": "python3"
  },
  "language_info": {
   "codemirror_mode": {
    "name": "ipython",
    "version": 3
   },
   "file_extension": ".py",
   "mimetype": "text/x-python",
   "name": "python",
   "nbconvert_exporter": "python",
   "pygments_lexer": "ipython3",
   "version": "3.6.8"
  }
 },
 "nbformat": 4,
 "nbformat_minor": 4
}
